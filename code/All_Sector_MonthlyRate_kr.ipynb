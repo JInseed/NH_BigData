{
 "cells": [
  {
   "cell_type": "code",
   "execution_count": 1,
   "id": "39a175d3",
   "metadata": {},
   "outputs": [
    {
     "data": {
      "text/plain": [
       "Text(0.5, 1.0, '테스트')"
      ]
     },
     "execution_count": 1,
     "metadata": {},
     "output_type": "execute_result"
    },
    {
     "data": {
      "image/png": "[encoded data removed]",
      "text/plain": [
       "<Figure size 640x480 with 1 Axes>"
      ]
     },
     "metadata": {},
     "output_type": "display_data"
    }
   ],
   "source": [
    "import matplotlib.pyplot as plt\n",
    "import networkx as nx\n",
    "from pyvis.network import Network\n",
    "import numpy as np\n",
    "import pandas as pd\n",
    "import plotly.graph_objs as go\n",
    "import seaborn as sns\n",
    "\n",
    "from matplotlib import rc\n",
    "%matplotlib inline\n",
    "from matplotlib import font_manager\n",
    "plt.style.use('default')\n",
    "f_path = \"C:/windows/Fonts/malgun.ttf\"\n",
    "ko_font = font_manager.FontProperties(fname=f_path).get_name()\n",
    "rc('font', family='Malgun Gothic')\n",
    "plt.title('테스트')"
   ]
  },
  {
   "cell_type": "code",
   "execution_count": 2,
   "id": "7ec6e178",
   "metadata": {},
   "outputs": [],
   "source": [
    "# Data Load\n",
    "# kr_sec = pd.read_csv('./kr_sec_180.csv', index_col = 0)\n",
    "# kr_price = pd.read_csv('./kr_price_180.csv', index_col = 0)\n",
    "# kr_earn = pd.read_csv('./kr_earning_180.csv', index_col = 0)\n",
    "\n",
    "\n",
    "kr_sec = pd.read_csv('C:/Users/Administrator/Desktop/비어플_NH/1028/kr_sec_180.csv', index_col = 0)\n",
    "kr_price = pd.read_csv('C:/Users/Administrator/Desktop/비어플_NH/1028/kr_price_180.csv', index_col = 0)\n",
    "kr_earn = pd.read_csv('C:/Users/Administrator/Desktop/비어플_NH/1028/kr_earning_180.csv', index_col = 0)\n",
    "\n",
    "kr_earn = kr_earn.iloc[:,[0] + list(range(9,17))]"
   ]
  },
  {
   "cell_type": "code",
   "execution_count": 3,
   "id": "f77a6e31",
   "metadata": {},
   "outputs": [],
   "source": [
    "#국내 월별 누적수익률 분류 리스트 생성\n",
    "\n",
    "#Jan\n",
    "kr_earn_Jan = kr_earn.loc[:,['종목','Jan_earning']]\n",
    "\n",
    "Jan_kr_High = kr_earn_Jan[kr_earn_Jan['Jan_earning']=='High']['종목'].to_list()\n",
    "Jan_kr_Middle = kr_earn_Jan[kr_earn_Jan['Jan_earning']=='middle']['종목'].to_list()\n",
    "Jan_kr_Low = kr_earn_Jan[kr_earn_Jan['Jan_earning']=='Low']['종목'].to_list()\n",
    "\n",
    "#Feb\n",
    "kr_earn_Feb = kr_earn.loc[:,['종목','Feb_earning']]\n",
    "\n",
    "Feb_kr_High = kr_earn_Feb[kr_earn_Feb['Feb_earning']=='High']['종목'].to_list()\n",
    "Feb_kr_Middle = kr_earn_Feb[kr_earn_Feb['Feb_earning']=='middle']['종목'].to_list()\n",
    "Feb_kr_Low = kr_earn_Feb[kr_earn_Feb['Feb_earning']=='Low']['종목'].to_list()\n",
    "\n",
    "#Mar\n",
    "kr_earn_Mar = kr_earn.loc[:,['종목','Mar_earning']]\n",
    "\n",
    "Mar_kr_High = kr_earn_Mar[kr_earn_Mar['Mar_earning']=='High']['종목'].to_list()\n",
    "Mar_kr_Middle = kr_earn_Mar[kr_earn_Mar['Mar_earning']=='middle']['종목'].to_list()\n",
    "Mar_kr_Low = kr_earn_Mar[kr_earn_Mar['Mar_earning']=='Low']['종목'].to_list()\n",
    "\n",
    "#Apr\n",
    "kr_earn_Apr = kr_earn.loc[:,['종목','Apr_earning']]\n",
    "\n",
    "Apr_kr_High = kr_earn_Apr[kr_earn_Apr['Apr_earning']=='High']['종목'].to_list()\n",
    "Apr_kr_Middle = kr_earn_Apr[kr_earn_Apr['Apr_earning']=='middle']['종목'].to_list()\n",
    "Apr_kr_Low = kr_earn_Apr[kr_earn_Apr['Apr_earning']=='Low']['종목'].to_list()\n",
    "\n",
    "#May\n",
    "kr_earn_May = kr_earn.loc[:,['종목','May_earning']]\n",
    "\n",
    "May_kr_High = kr_earn_May[kr_earn_May['May_earning']=='High']['종목'].to_list()\n",
    "May_kr_Middle = kr_earn_May[kr_earn_May['May_earning']=='middle']['종목'].to_list()\n",
    "May_kr_Low = kr_earn_May[kr_earn_May['May_earning']=='Low']['종목'].to_list()\n",
    "\n",
    "#Jun\n",
    "kr_earn_Jun = kr_earn.loc[:,['종목','Jun_earning']]\n",
    "\n",
    "Jun_kr_High = kr_earn_Jun[kr_earn_Jun['Jun_earning']=='High']['종목'].to_list()\n",
    "Jun_kr_Middle = kr_earn_Jun[kr_earn_Jun['Jun_earning']=='middle']['종목'].to_list()\n",
    "Jun_kr_Low = kr_earn_Jun[kr_earn_Jun['Jun_earning']=='Low']['종목'].to_list()\n",
    "\n",
    "#Jul\n",
    "kr_earn_Jul = kr_earn.loc[:,['종목','Jul_earning']]\n",
    "\n",
    "Jul_kr_High = kr_earn_Jul[kr_earn_Jul['Jul_earning']=='High']['종목'].to_list()\n",
    "Jul_kr_Middle = kr_earn_Jul[kr_earn_Jul['Jul_earning']=='middle']['종목'].to_list()\n",
    "Jul_kr_Low = kr_earn_Jul[kr_earn_Jul['Jul_earning']=='Low']['종목'].to_list()\n",
    "\n",
    "#Aug\n",
    "kr_earn_Aug = kr_earn.loc[:,['종목','Aug_earning']]\n",
    "\n",
    "Aug_kr_High = kr_earn_Aug[kr_earn_Aug['Aug_earning']=='High']['종목'].to_list()\n",
    "Aug_kr_Middle = kr_earn_Aug[kr_earn_Aug['Aug_earning']=='middle']['종목'].to_list()\n",
    "Aug_kr_Low = kr_earn_Aug[kr_earn_Aug['Aug_earning']=='Low']['종목'].to_list()"
   ]
  },
  {
   "cell_type": "code",
   "execution_count": 4,
   "id": "5b261f6a",
   "metadata": {},
   "outputs": [
    {
     "name": "stdout",
     "output_type": "stream",
     "text": [
      "15273 edges removed\n"
     ]
    }
   ],
   "source": [
    "def generate_network(df):\n",
    "    #상관행렬 생성\n",
    "    stock_per = df.pct_change()\n",
    "    stock_per = stock_per.iloc[1:,:]\n",
    "    stock_cor = stock_per.dropna(axis = 1).corr(method = 'pearson')\n",
    "\n",
    "    # convert matrix to list of edges and rename the columns\n",
    "    edges = stock_cor.stack().reset_index()\n",
    "    edges.columns = [\"종목_1\", \"종목_2\", \"correlation\"]\n",
    "\n",
    "    # remove self correlations\n",
    "    edges = edges.loc[edges[\"종목_1\"] != edges[\"종목_2\"]].copy()\n",
    "\n",
    "    # 임계값(+-0.4) 이하 제거\n",
    "    threshold = 0.4\n",
    "\n",
    "    # 기본 무방향 그래프 생성\n",
    "    Gx = nx.from_pandas_edgelist(edges, \"종목_1\", \"종목_2\", edge_attr=[\"correlation\"])\n",
    "\n",
    "    # list to store edges to remove\n",
    "    remove = []\n",
    "    # loop through edges in Gx and find correlations which are below the threshold\n",
    "    for 종목_1, 종목_2 in Gx.edges():\n",
    "        corr = Gx[종목_1][종목_2][\"correlation\"]\n",
    "        # add to remove node list if abs(corr) < threshold\n",
    "        if abs(corr) < threshold:\n",
    "            remove.append((종목_1, 종목_2))\n",
    "\n",
    "    # remove edges contained in the remove list\n",
    "    Gx.remove_edges_from(remove)\n",
    "    print(str(len(remove)) + \" edges removed\")\n",
    "    return Gx"
   ]
  },
  {
   "cell_type": "code",
   "execution_count": null,
   "id": "c34bac82",
   "metadata": {},
   "outputs": [],
   "source": [
    "Gx = generate_network(kr_price)"
   ]
  },
  {
   "cell_type": "code",
   "execution_count": 5,
   "id": "67d3abb1",
   "metadata": {},
   "outputs": [],
   "source": [
    "#노드 사이즈 지정\n",
    "degree_dict = dict(nx.degree(Gx))\n",
    "nsize = np.array([v for v in degree_dict.values()])\n",
    "stock_list = np.array([v for v in degree_dict.keys()])\n",
    "\n",
    "for i, j in enumerate(nsize):\n",
    "    Gx.add_node(stock_list[i], size = nsize[i]*1.1)"
   ]
  },
  {
   "cell_type": "markdown",
   "id": "4961d77a",
   "metadata": {},
   "source": [
    "# 1월"
   ]
  },
  {
   "cell_type": "code",
   "execution_count": 6,
   "id": "cd94ff3f",
   "metadata": {},
   "outputs": [
    {
     "name": "stdout",
     "output_type": "stream",
     "text": [
      "Warning: When  cdn_resources is 'local' jupyter notebook has issues displaying graphics on chrome/safari. Use cdn_resources='in_line' or cdn_resources='remote' if you have issues viewing graphics in a notebook.\n",
      "All_Sector_MonthlyRate_Jan_kr.html\n"
     ]
    },
    {
     "data": {
      "text/html": [
       "\n",
       "        <iframe\n",
       "            width=\"1200px\"\n",
       "            height=\"1000px\"\n",
       "            src=\"All_Sector_MonthlyRate_Jan_kr.html\"\n",
       "            frameborder=\"0\"\n",
       "            allowfullscreen\n",
       "            \n",
       "        ></iframe>\n",
       "        "
      ],
      "text/plain": [
       "<IPython.lib.display.IFrame at 0x1f3ead996d0>"
      ]
     },
     "execution_count": 6,
     "metadata": {},
     "output_type": "execute_result"
    }
   ],
   "source": [
    "Gx.add_nodes_from(Jan_kr_High, color = 'blue')\n",
    "Gx.add_nodes_from(Jan_kr_Middle, color = 'white')\n",
    "Gx.add_nodes_from(Jan_kr_Low, color = 'red')\n",
    "\n",
    "\n",
    "net = Network(notebook = True, width = '1200px', height = '1000px',\n",
    "             bgcolor = '#222222', font_color = 'white')\n",
    "\n",
    "net.repulsion(node_distance = 100, central_gravity = .01)\n",
    "net.from_nx(Gx)\n",
    "net.show('All_Sector_MonthlyRate_Jan_kr.html')"
   ]
  },
  {
   "cell_type": "code",
   "execution_count": 7,
   "id": "ad3b7dd6",
   "metadata": {},
   "outputs": [],
   "source": [
    "net.write_html('All_Sector_MonthlyRate_Jan_kr.html')"
   ]
  },
  {
   "cell_type": "markdown",
   "id": "55561b8c",
   "metadata": {},
   "source": [
    "# 2월"
   ]
  },
  {
   "cell_type": "code",
   "execution_count": 8,
   "id": "0f36d1de",
   "metadata": {},
   "outputs": [
    {
     "name": "stdout",
     "output_type": "stream",
     "text": [
      "Warning: When  cdn_resources is 'local' jupyter notebook has issues displaying graphics on chrome/safari. Use cdn_resources='in_line' or cdn_resources='remote' if you have issues viewing graphics in a notebook.\n",
      "All_Sector_MonthlyRate_Feb_kr.html\n"
     ]
    },
    {
     "data": {
      "text/html": [
       "\n",
       "        <iframe\n",
       "            width=\"1200px\"\n",
       "            height=\"1000px\"\n",
       "            src=\"All_Sector_MonthlyRate_Feb_kr.html\"\n",
       "            frameborder=\"0\"\n",
       "            allowfullscreen\n",
       "            \n",
       "        ></iframe>\n",
       "        "
      ],
      "text/plain": [
       "<IPython.lib.display.IFrame at 0x1f3eae16e10>"
      ]
     },
     "execution_count": 8,
     "metadata": {},
     "output_type": "execute_result"
    }
   ],
   "source": [
    "Gx.add_nodes_from(Feb_kr_High, color = 'blue')\n",
    "Gx.add_nodes_from(Feb_kr_Middle, color = 'white')\n",
    "Gx.add_nodes_from(Feb_kr_Low, color = 'red')\n",
    "\n",
    "net = Network(notebook = True, width = '1200px', height = '1000px',\n",
    "             bgcolor = '#222222', font_color = 'white')\n",
    "\n",
    "net.repulsion(node_distance = 100, central_gravity = .01)\n",
    "net.from_nx(Gx)\n",
    "net.show('All_Sector_MonthlyRate_Feb_kr.html')"
   ]
  },
  {
   "cell_type": "code",
   "execution_count": 9,
   "id": "a958b44f",
   "metadata": {},
   "outputs": [],
   "source": [
    "net.write_html('All_Sector_MonthlyRate_Feb_kr.html')"
   ]
  },
  {
   "cell_type": "markdown",
   "id": "85aff76d",
   "metadata": {},
   "source": [
    "# 3월"
   ]
  },
  {
   "cell_type": "code",
   "execution_count": 10,
   "id": "0c66a4d0",
   "metadata": {},
   "outputs": [
    {
     "name": "stdout",
     "output_type": "stream",
     "text": [
      "Warning: When  cdn_resources is 'local' jupyter notebook has issues displaying graphics on chrome/safari. Use cdn_resources='in_line' or cdn_resources='remote' if you have issues viewing graphics in a notebook.\n",
      "All_Sector_MonthlyRate_Mar_kr.html\n"
     ]
    },
    {
     "data": {
      "text/html": [
       "\n",
       "        <iframe\n",
       "            width=\"1200px\"\n",
       "            height=\"1000px\"\n",
       "            src=\"All_Sector_MonthlyRate_Mar_kr.html\"\n",
       "            frameborder=\"0\"\n",
       "            allowfullscreen\n",
       "            \n",
       "        ></iframe>\n",
       "        "
      ],
      "text/plain": [
       "<IPython.lib.display.IFrame at 0x1f3eae03c50>"
      ]
     },
     "execution_count": 10,
     "metadata": {},
     "output_type": "execute_result"
    }
   ],
   "source": [
    "Gx.add_nodes_from(Mar_kr_High, color = 'blue')\n",
    "Gx.add_nodes_from(Mar_kr_Middle, color = 'white')\n",
    "Gx.add_nodes_from(Mar_kr_Low, color = 'red')\n",
    "\n",
    "net = Network(notebook = True, width = '1200px', height = '1000px',\n",
    "             bgcolor = '#222222', font_color = 'white')\n",
    "\n",
    "net.repulsion(node_distance = 100, central_gravity = .01)\n",
    "net.from_nx(Gx)\n",
    "net.show('All_Sector_MonthlyRate_Mar_kr.html')"
   ]
  },
  {
   "cell_type": "code",
   "execution_count": 11,
   "id": "bb67b147",
   "metadata": {},
   "outputs": [],
   "source": [
    "net.write_html('All_Sector_MonthlyRate_Mar_kr.html')"
   ]
  },
  {
   "cell_type": "markdown",
   "id": "3f51d2b9",
   "metadata": {},
   "source": [
    "# 4월"
   ]
  },
  {
   "cell_type": "code",
   "execution_count": 12,
   "id": "29cfaa6a",
   "metadata": {},
   "outputs": [
    {
     "name": "stdout",
     "output_type": "stream",
     "text": [
      "Warning: When  cdn_resources is 'local' jupyter notebook has issues displaying graphics on chrome/safari. Use cdn_resources='in_line' or cdn_resources='remote' if you have issues viewing graphics in a notebook.\n",
      "All_Sector_MonthlyRate_Apr_kr.html\n"
     ]
    },
    {
     "data": {
      "text/html": [
       "\n",
       "        <iframe\n",
       "            width=\"1200px\"\n",
       "            height=\"1000px\"\n",
       "            src=\"All_Sector_MonthlyRate_Apr_kr.html\"\n",
       "            frameborder=\"0\"\n",
       "            allowfullscreen\n",
       "            \n",
       "        ></iframe>\n",
       "        "
      ],
      "text/plain": [
       "<IPython.lib.display.IFrame at 0x1f3eb829490>"
      ]
     },
     "execution_count": 12,
     "metadata": {},
     "output_type": "execute_result"
    }
   ],
   "source": [
    "Gx.add_nodes_from(Apr_kr_High, color = 'blue')\n",
    "Gx.add_nodes_from(Apr_kr_Middle, color = 'white')\n",
    "Gx.add_nodes_from(Apr_kr_Low, color = 'red')\n",
    "\n",
    "net = Network(notebook = True, width = '1200px', height = '1000px',\n",
    "             bgcolor = '#222222', font_color = 'white')\n",
    "\n",
    "net.repulsion(node_distance = 100, central_gravity = .01)\n",
    "net.from_nx(Gx)\n",
    "net.show('All_Sector_MonthlyRate_Apr_kr.html')"
   ]
  },
  {
   "cell_type": "code",
   "execution_count": 13,
   "id": "834e344e",
   "metadata": {},
   "outputs": [],
   "source": [
    "net.write_html('All_Sector_MonthlyRate_Apr_kr.html')"
   ]
  },
  {
   "cell_type": "markdown",
   "id": "25bba649",
   "metadata": {},
   "source": [
    "# 5월"
   ]
  },
  {
   "cell_type": "code",
   "execution_count": 14,
   "id": "1fc9125c",
   "metadata": {},
   "outputs": [
    {
     "name": "stdout",
     "output_type": "stream",
     "text": [
      "Warning: When  cdn_resources is 'local' jupyter notebook has issues displaying graphics on chrome/safari. Use cdn_resources='in_line' or cdn_resources='remote' if you have issues viewing graphics in a notebook.\n",
      "All_Sector_MonthlyRate_May_kr.html\n"
     ]
    },
    {
     "data": {
      "text/html": [
       "\n",
       "        <iframe\n",
       "            width=\"1200px\"\n",
       "            height=\"1000px\"\n",
       "            src=\"All_Sector_MonthlyRate_May_kr.html\"\n",
       "            frameborder=\"0\"\n",
       "            allowfullscreen\n",
       "            \n",
       "        ></iframe>\n",
       "        "
      ],
      "text/plain": [
       "<IPython.lib.display.IFrame at 0x1f3eb82ac50>"
      ]
     },
     "execution_count": 14,
     "metadata": {},
     "output_type": "execute_result"
    }
   ],
   "source": [
    "Gx.add_nodes_from(May_kr_High, color = 'blue')\n",
    "Gx.add_nodes_from(May_kr_Middle, color = 'white')\n",
    "Gx.add_nodes_from(May_kr_Low, color = 'red')\n",
    "\n",
    "\n",
    "net = Network(notebook = True, width = '1200px', height = '1000px',\n",
    "             bgcolor = '#222222', font_color = 'white')\n",
    "\n",
    "net.repulsion(node_distance = 100, central_gravity = .01)\n",
    "net.from_nx(Gx)\n",
    "net.show('All_Sector_MonthlyRate_May_kr.html')"
   ]
  },
  {
   "cell_type": "code",
   "execution_count": 15,
   "id": "33c56de7",
   "metadata": {},
   "outputs": [],
   "source": [
    "net.write_html('All_Sector_MonthlyRate_May_kr.html')"
   ]
  },
  {
   "cell_type": "markdown",
   "id": "55bd158e",
   "metadata": {},
   "source": [
    "# 6월"
   ]
  },
  {
   "cell_type": "code",
   "execution_count": 16,
   "id": "9b7472f8",
   "metadata": {},
   "outputs": [
    {
     "name": "stdout",
     "output_type": "stream",
     "text": [
      "Warning: When  cdn_resources is 'local' jupyter notebook has issues displaying graphics on chrome/safari. Use cdn_resources='in_line' or cdn_resources='remote' if you have issues viewing graphics in a notebook.\n",
      "All_Sector_MonthlyRate_Jun_kr.html\n"
     ]
    },
    {
     "data": {
      "text/html": [
       "\n",
       "        <iframe\n",
       "            width=\"1200px\"\n",
       "            height=\"1000px\"\n",
       "            src=\"All_Sector_MonthlyRate_Jun_kr.html\"\n",
       "            frameborder=\"0\"\n",
       "            allowfullscreen\n",
       "            \n",
       "        ></iframe>\n",
       "        "
      ],
      "text/plain": [
       "<IPython.lib.display.IFrame at 0x1f3eae17310>"
      ]
     },
     "execution_count": 16,
     "metadata": {},
     "output_type": "execute_result"
    }
   ],
   "source": [
    "Gx.add_nodes_from(Jun_kr_High, color = 'blue')\n",
    "Gx.add_nodes_from(Jun_kr_Middle, color = 'white')\n",
    "Gx.add_nodes_from(Jun_kr_Low, color = 'red')\n",
    "\n",
    "net = Network(notebook = True, width = '1200px', height = '1000px',\n",
    "             bgcolor = '#222222', font_color = 'white')\n",
    "\n",
    "net.repulsion(node_distance = 100, central_gravity = .01)\n",
    "net.from_nx(Gx)\n",
    "net.show('All_Sector_MonthlyRate_Jun_kr.html')"
   ]
  },
  {
   "cell_type": "code",
   "execution_count": 17,
   "id": "3ba049d6",
   "metadata": {},
   "outputs": [],
   "source": [
    "net.write_html('All_Sector_MonthlyRate_Jun_kr.html')"
   ]
  },
  {
   "cell_type": "markdown",
   "id": "e125ec05",
   "metadata": {},
   "source": [
    "# 7월"
   ]
  },
  {
   "cell_type": "code",
   "execution_count": 18,
   "id": "a1b3622b",
   "metadata": {},
   "outputs": [
    {
     "name": "stdout",
     "output_type": "stream",
     "text": [
      "Warning: When  cdn_resources is 'local' jupyter notebook has issues displaying graphics on chrome/safari. Use cdn_resources='in_line' or cdn_resources='remote' if you have issues viewing graphics in a notebook.\n",
      "All_Sector_MonthlyRate_Jul_kr.html\n"
     ]
    },
    {
     "data": {
      "text/html": [
       "\n",
       "        <iframe\n",
       "            width=\"1200px\"\n",
       "            height=\"1000px\"\n",
       "            src=\"All_Sector_MonthlyRate_Jul_kr.html\"\n",
       "            frameborder=\"0\"\n",
       "            allowfullscreen\n",
       "            \n",
       "        ></iframe>\n",
       "        "
      ],
      "text/plain": [
       "<IPython.lib.display.IFrame at 0x1f3eb7f0790>"
      ]
     },
     "execution_count": 18,
     "metadata": {},
     "output_type": "execute_result"
    }
   ],
   "source": [
    "Gx.add_nodes_from(Jul_kr_High, color = 'blue')\n",
    "Gx.add_nodes_from(Jul_kr_Middle, color = 'white')\n",
    "Gx.add_nodes_from(Jul_kr_Low, color = 'red')\n",
    "\n",
    "net = Network(notebook = True, width = '1200px', height = '1000px',\n",
    "             bgcolor = '#222222', font_color = 'white')\n",
    "\n",
    "net.repulsion(node_distance = 100, central_gravity = .01)\n",
    "net.from_nx(Gx)\n",
    "net.show('All_Sector_MonthlyRate_Jul_kr.html')"
   ]
  },
  {
   "cell_type": "code",
   "execution_count": 19,
   "id": "37fdaa7d",
   "metadata": {},
   "outputs": [],
   "source": [
    "net.write_html('All_Sector_MonthlyRate_Jul_kr.html')"
   ]
  },
  {
   "cell_type": "markdown",
   "id": "360e1b5d",
   "metadata": {},
   "source": [
    "# 8월"
   ]
  },
  {
   "cell_type": "code",
   "execution_count": 20,
   "id": "5525e5cc",
   "metadata": {},
   "outputs": [
    {
     "name": "stdout",
     "output_type": "stream",
     "text": [
      "Warning: When  cdn_resources is 'local' jupyter notebook has issues displaying graphics on chrome/safari. Use cdn_resources='in_line' or cdn_resources='remote' if you have issues viewing graphics in a notebook.\n",
      "All_Sector_MonthlyRate_Aug_kr.html\n"
     ]
    },
    {
     "data": {
      "text/html": [
       "\n",
       "        <iframe\n",
       "            width=\"1200px\"\n",
       "            height=\"1000px\"\n",
       "            src=\"All_Sector_MonthlyRate_Aug_kr.html\"\n",
       "            frameborder=\"0\"\n",
       "            allowfullscreen\n",
       "            \n",
       "        ></iframe>\n",
       "        "
      ],
      "text/plain": [
       "<IPython.lib.display.IFrame at 0x1f3eb87f390>"
      ]
     },
     "execution_count": 20,
     "metadata": {},
     "output_type": "execute_result"
    }
   ],
   "source": [
    "Gx.add_nodes_from(Aug_kr_High, color = 'blue')\n",
    "Gx.add_nodes_from(Aug_kr_Middle, color = 'white')\n",
    "Gx.add_nodes_from(Aug_kr_Low, color = 'red')\n",
    "\n",
    "net = Network(notebook = True, width = '1200px', height = '1000px',\n",
    "             bgcolor = '#222222', font_color = 'white')\n",
    "\n",
    "net.repulsion(node_distance = 100, central_gravity = .01)\n",
    "net.from_nx(Gx)\n",
    "net.show('All_Sector_MonthlyRate_Aug_kr.html')"
   ]
  },
  {
   "cell_type": "code",
   "execution_count": 21,
   "id": "16925d80",
   "metadata": {},
   "outputs": [],
   "source": [
    "net.write_html('All_Sector_MonthlyRate_Aug_kr.html')"
   ]
  }
 ],
 "metadata": {
  "kernelspec": {
   "display_name": "Python 3 (ipykernel)",
   "language": "python",
   "name": "python3"
  },
  "language_info": {
   "codemirror_mode": {
    "name": "ipython",
    "version": 3
   },
   "file_extension": ".py",
   "mimetype": "text/x-python",
   "name": "python",
   "nbconvert_exporter": "python",
   "pygments_lexer": "ipython3",
   "version": "3.11.5"
  }
 },
 "nbformat": 4,
 "nbformat_minor": 5
}
