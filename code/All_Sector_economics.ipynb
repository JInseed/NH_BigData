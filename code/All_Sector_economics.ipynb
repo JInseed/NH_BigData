{
 "cells": [
  {
   "cell_type": "code",
   "execution_count": 1,
   "id": "1fd09117",
   "metadata": {},
   "outputs": [
    {
     "data": {
      "text/plain": [
       "Text(0.5, 1.0, '테스트')"
      ]
     },
     "execution_count": 1,
     "metadata": {},
     "output_type": "execute_result"
    },
    {
     "data": {
      "image/png": "[encoded data removed]",
      "text/plain": [
       "<Figure size 640x480 with 1 Axes>"
      ]
     },
     "metadata": {},
     "output_type": "display_data"
    }
   ],
   "source": [
    "import matplotlib.pyplot as plt\n",
    "import networkx as nx\n",
    "from pyvis.network import Network\n",
    "import numpy as np\n",
    "import pandas as pd\n",
    "import plotly.graph_objs as go\n",
    "import seaborn as sns\n",
    "\n",
    "from matplotlib import rc\n",
    "%matplotlib inline\n",
    "from matplotlib import font_manager\n",
    "plt.style.use('default')\n",
    "f_path = \"C:/windows/Fonts/malgun.ttf\"\n",
    "ko_font = font_manager.FontProperties(fname=f_path).get_name()\n",
    "rc('font', family='Malgun Gothic')\n",
    "plt.title('테스트')"
   ]
  },
  {
   "cell_type": "code",
   "execution_count": 2,
   "id": "1bbdb77f",
   "metadata": {},
   "outputs": [],
   "source": [
    "# Data Load\n",
    "#kr_sec = pd.read_csv('./kr_sec_150.csv', index_col = 0)\n",
    "#ov_sec = pd.read_csv('./ov_sec_150.csv', index_col = 0)\n",
    "#kr_price = pd.read_csv('./kr_price_150.csv', index_col = 0)\n",
    "#ov_price = pd.read_csv('./ov_price_150.csv', index_col = 0)\n",
    "#eco = pd.read_csv('./economics.csv', index_col = 0)\n",
    "\n",
    "kr_sec = pd.read_csv('C:/Users/Administrator/Desktop/비어플_NH_last/1028/kr_sec_180.csv', index_col = 0)\n",
    "ov_sec = pd.read_csv('C:/Users/Administrator/Desktop/비어플_NH_last/1028/ov_sec_180.csv', index_col = 0)\n",
    "kr_price = pd.read_csv('C:/Users/Administrator/Desktop/비어플_NH_last/1028/kr_price_180.csv', index_col = 0)\n",
    "ov_price = pd.read_csv('C:/Users/Administrator/Desktop/비어플_NH_last/1028/ov_price_180.csv', index_col = 0)\n",
    "eco = pd.read_csv('C:/Users/Administrator/Desktop/비어플_NH_last/1028/economics.csv', index_col = 0)\n",
    "\n",
    "eco.set_index(keys = 'Date', inplace = True)"
   ]
  },
  {
   "cell_type": "code",
   "execution_count": 3,
   "id": "be41734e",
   "metadata": {},
   "outputs": [],
   "source": [
    "# Sector별 종목명 추출\n",
    "#국내\n",
    "col_kr = kr_price.columns.to_list()\n",
    "\n",
    "소재_kr = kr_sec[kr_sec['sector']=='소재']['종목명'].to_list()\n",
    "col_소재_kr = [x for x in 소재_kr if x in col_kr]\n",
    "\n",
    "정보기술_kr = kr_sec[kr_sec['sector']=='정보기술']['종목명'].to_list()\n",
    "col_정보_kr = [x for x in 정보기술_kr if x in col_kr]\n",
    "\n",
    "커뮤니케이션서비스_kr = kr_sec[kr_sec['sector']=='커뮤니케이션서비스']['종목명'].to_list()\n",
    "col_커뮤_kr = [x for x in 커뮤니케이션서비스_kr if x in col_kr]\n",
    "\n",
    "금융_kr = kr_sec[kr_sec['sector']=='금융']['종목명'].to_list()\n",
    "col_금융_kr = [x for x in 금융_kr if x in col_kr]\n",
    "\n",
    "산업재_kr = kr_sec[kr_sec['sector']=='산업재']['종목명'].to_list()\n",
    "col_산업_kr = [x for x in 산업재_kr if x in col_kr]\n",
    "\n",
    "헬스케어_kr = kr_sec[kr_sec['sector']=='헬스케어']['종목명'].to_list()\n",
    "col_헬스_kr = [x for x in 헬스케어_kr if x in col_kr]\n",
    "\n",
    "#해외\n",
    "col_ov = ov_price.columns.to_list()\n",
    "\n",
    "소재_ov = ov_sec[ov_sec['sector']=='소재']['종목명'].to_list()\n",
    "col_소재_ov = [x for x in 소재_ov if x in col_ov]\n",
    "\n",
    "정보기술_ov = ov_sec[ov_sec['sector']=='정보기술']['종목명'].to_list()\n",
    "col_정보_ov = [x for x in 정보기술_ov if x in col_ov]\n",
    "\n",
    "커뮤니케이션서비스_ov = ov_sec[ov_sec['sector']=='커뮤니케이션서비스']['종목명'].to_list()\n",
    "col_커뮤_ov = [x for x in 커뮤니케이션서비스_ov if x in col_ov]\n",
    "\n",
    "금융_ov = ov_sec[ov_sec['sector']=='금융']['종목명'].to_list()\n",
    "col_금융_ov = [x for x in 금융_ov if x in col_ov]\n",
    "\n",
    "산업재_ov = ov_sec[ov_sec['sector']=='산업재']['종목명'].to_list()\n",
    "col_산업_ov = [x for x in 산업재_ov if x in col_ov]\n",
    "\n",
    "헬스케어_ov = ov_sec[ov_sec['sector']=='헬스케어']['종목명'].to_list()\n",
    "col_헬스_ov = [x for x in 헬스케어_ov if x in col_ov]"
   ]
  },
  {
   "cell_type": "code",
   "execution_count": 4,
   "id": "b8a19c8c",
   "metadata": {},
   "outputs": [],
   "source": [
    "stock = pd.merge(kr_price, ov_price, how = 'left', left_index=True, right_index=True)\n",
    "stock_eco = pd.merge(stock, eco, how = 'left', left_index=True, right_index=True)"
   ]
  },
  {
   "cell_type": "markdown",
   "id": "ce4e115f",
   "metadata": {},
   "source": [
    "### 상관행렬 생성\n",
    "\n",
    "- 임계값 +-0.4 이하의 엣지는 제거"
   ]
  },
  {
   "cell_type": "code",
   "execution_count": 5,
   "id": "d5572f58",
   "metadata": {},
   "outputs": [
    {
     "name": "stdout",
     "output_type": "stream",
     "text": [
      "63138 edges removed\n"
     ]
    }
   ],
   "source": [
    "def generate_network(df):\n",
    "    #상관행렬 생성\n",
    "    stock_per = df.pct_change()\n",
    "    stock_per = stock_per.iloc[1:,:]\n",
    "    stock_cor = stock_per.dropna(axis = 1).corr(method = 'pearson')\n",
    "\n",
    "    # convert matrix to list of edges and rename the columns\n",
    "    edges = stock_cor.stack().reset_index()\n",
    "    edges.columns = [\"종목_1\", \"종목_2\", \"correlation\"]\n",
    "\n",
    "    # remove self correlations\n",
    "    edges = edges.loc[edges[\"종목_1\"] != edges[\"종목_2\"]].copy()\n",
    "\n",
    "    # 임계값(+-0.4) 이하 제거\n",
    "    threshold = 0.4\n",
    "\n",
    "    # 기본 무방향 그래프 생성\n",
    "    Gx = nx.from_pandas_edgelist(edges, \"종목_1\", \"종목_2\", edge_attr=[\"correlation\"])\n",
    "\n",
    "    # list to store edges to remove\n",
    "    remove = []\n",
    "    # loop through edges in Gx and find correlations which are below the threshold\n",
    "    for 종목_1, 종목_2 in Gx.edges():\n",
    "        corr = Gx[종목_1][종목_2][\"correlation\"]\n",
    "        # add to remove node list if abs(corr) < threshold\n",
    "        if abs(corr) < threshold:\n",
    "            remove.append((종목_1, 종목_2))\n",
    "\n",
    "    # remove edges contained in the remove list\n",
    "    Gx.remove_edges_from(remove)\n",
    "    print(str(len(remove)) + \" edges removed\")\n",
    "    return Gx"
   ]
  },
  {
   "cell_type": "code",
   "execution_count": null,
   "id": "315fa281",
   "metadata": {},
   "outputs": [],
   "source": [
    "Gx_eco = generate_network(stock_eco)"
   ]
  },
  {
   "cell_type": "code",
   "execution_count": 6,
   "id": "bf7bf446",
   "metadata": {},
   "outputs": [],
   "source": [
    "# 국내인지 해외인지 속성 부여하기\n",
    "korea = kr_price.columns.to_list()\n",
    "nasdaq = ov_price.columns.to_list()\n",
    "eco_col = eco.columns.to_list()\n",
    "\n",
    "Gx_eco.add_nodes_from(korea, shape = 'star')\n",
    "Gx_eco.add_nodes_from(nasdaq, shape = 'dot')\n",
    "Gx_eco.add_nodes_from(eco_col, shape = 'square')\n",
    "\n",
    "\n",
    "#노드 사이즈 지정\n",
    "degree_dict = dict(nx.degree(Gx_eco))\n",
    "nsize = np.array([v for v in degree_dict.values()])\n",
    "stock_list = np.array([v for v in degree_dict.keys()])\n",
    "\n",
    "for i, j in enumerate(nsize):\n",
    "    Gx_eco.add_node(stock_list[i], size = nsize[i]*1.1)\n",
    "\n",
    "for n, d in Gx_eco.nodes(data=True):\n",
    "    if d['shape'] =='star':\n",
    "        Gx_eco.add_node(n, size = d['size']*1.1)\n",
    "    elif d['shape'] == 'dot':\n",
    "        Gx_eco.add_node(n, size = d['size']*0.2)\n",
    "    else:\n",
    "        Gx_eco.add_node(n, size = 30)"
   ]
  },
  {
   "cell_type": "code",
   "execution_count": 7,
   "id": "faf29427",
   "metadata": {},
   "outputs": [
    {
     "name": "stdout",
     "output_type": "stream",
     "text": [
      "Warning: When  cdn_resources is 'local' jupyter notebook has issues displaying graphics on chrome/safari. Use cdn_resources='in_line' or cdn_resources='remote' if you have issues viewing graphics in a notebook.\n",
      "All_Sector_Economics.html\n"
     ]
    },
    {
     "data": {
      "text/html": [
       "\n",
       "        <iframe\n",
       "            width=\"1200px\"\n",
       "            height=\"1000px\"\n",
       "            src=\"All_Sector_Economics.html\"\n",
       "            frameborder=\"0\"\n",
       "            allowfullscreen\n",
       "            \n",
       "        ></iframe>\n",
       "        "
      ],
      "text/plain": [
       "<IPython.lib.display.IFrame at 0x12f69776190>"
      ]
     },
     "execution_count": 7,
     "metadata": {},
     "output_type": "execute_result"
    }
   ],
   "source": [
    "Gx_eco.add_nodes_from(col_소재_kr, group = 1)\n",
    "Gx_eco.add_nodes_from(col_정보_kr, group = 2)\n",
    "Gx_eco.add_nodes_from(col_커뮤_kr, group = 3)\n",
    "Gx_eco.add_nodes_from(col_금융_kr, group = 4)\n",
    "Gx_eco.add_nodes_from(col_산업_kr, group = 5)\n",
    "Gx_eco.add_nodes_from(col_헬스_kr, group = 6)\n",
    "\n",
    "Gx_eco.add_nodes_from(col_소재_ov, group = 1)\n",
    "Gx_eco.add_nodes_from(col_정보_ov, group = 2)\n",
    "Gx_eco.add_nodes_from(col_커뮤_ov, group = 3)\n",
    "Gx_eco.add_nodes_from(col_금융_ov, group = 4)\n",
    "Gx_eco.add_nodes_from(col_산업_ov, group = 5)\n",
    "Gx_eco.add_nodes_from(col_헬스_ov, group = 6)\n",
    "\n",
    "Gx_eco.add_nodes_from(eco_col, group = 7)\n",
    "\n",
    "\n",
    "net = Network(notebook = True, width = '1200px', height = '1000px',\n",
    "             bgcolor = '#222222', font_color = 'white')\n",
    "\n",
    "net.repulsion(node_distance = 100, central_gravity = .01)\n",
    "net.from_nx(Gx_eco)\n",
    "net.show('All_Sector_Economics.html')"
   ]
  },
  {
   "cell_type": "code",
   "execution_count": 8,
   "id": "8ababaff",
   "metadata": {},
   "outputs": [],
   "source": [
    "net.write_html('All_Sector_Economics.html')"
   ]
  }
 ],
 "metadata": {
  "kernelspec": {
   "display_name": "Python 3 (ipykernel)",
   "language": "python",
   "name": "python3"
  },
  "language_info": {
   "codemirror_mode": {
    "name": "ipython",
    "version": 3
   },
   "file_extension": ".py",
   "mimetype": "text/x-python",
   "name": "python",
   "nbconvert_exporter": "python",
   "pygments_lexer": "ipython3",
   "version": "3.11.5"
  }
 },
 "nbformat": 4,
 "nbformat_minor": 5
}
