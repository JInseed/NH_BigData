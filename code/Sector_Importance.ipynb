{
 "cells": [
  {
   "cell_type": "code",
   "execution_count": 1,
   "id": "31c64e27",
   "metadata": {},
   "outputs": [
    {
     "data": {
      "text/plain": [
       "Text(0.5, 1.0, '테스트')"
      ]
     },
     "execution_count": 1,
     "metadata": {},
     "output_type": "execute_result"
    },
    {
     "data": {
      "image/png": "[encoded data removed]",
      "text/plain": [
       "<Figure size 640x480 with 1 Axes>"
      ]
     },
     "metadata": {},
     "output_type": "display_data"
    }
   ],
   "source": [
    "import matplotlib.pyplot as plt\n",
    "import networkx as nx\n",
    "from pyvis.network import Network\n",
    "import numpy as np\n",
    "import pandas as pd\n",
    "import plotly.graph_objs as go\n",
    "import seaborn as sns\n",
    "\n",
    "from matplotlib import rc\n",
    "%matplotlib inline\n",
    "from matplotlib import font_manager\n",
    "plt.style.use('default')\n",
    "f_path = \"C:/windows/Fonts/malgun.ttf\"\n",
    "ko_font = font_manager.FontProperties(fname=f_path).get_name()\n",
    "rc('font', family='Malgun Gothic')\n",
    "plt.title('테스트')"
   ]
  },
  {
   "cell_type": "code",
   "execution_count": 2,
   "id": "e9a311d9",
   "metadata": {},
   "outputs": [],
   "source": [
    "# Data Load\n",
    "#ov_sec = pd.read_csv('./ov_sec_180.csv', index_col = 0)\n",
    "#ov_price = pd.read_csv('./ov_price_180.csv', index_col = 0)\n",
    "#kr_sec = pd.read_csv('./kr_sec_180.csv', index_col = 0)\n",
    "#kr_price = pd.read_csv('./kr_price_180.csv', index_col = 0)\n",
    "\n",
    "kr_sec = pd.read_csv('C:/Users/Administrator/Desktop/비어플_NH/1028/kr_sec_180.csv', index_col = 0)\n",
    "kr_price = pd.read_csv('C:/Users/Administrator/Desktop/비어플_NH/1028/kr_price_180.csv', index_col = 0)\n",
    "ov_sec = pd.read_csv('C:/Users/Administrator/Desktop/비어플_NH/1028/ov_sec_180.csv', index_col = 0)\n",
    "ov_price = pd.read_csv('C:/Users/Administrator/Desktop/비어플_NH/1028/ov_price_180.csv', index_col = 0)"
   ]
  },
  {
   "cell_type": "markdown",
   "id": "5f7ecf6c",
   "metadata": {},
   "source": [
    "# Sector 별 데이터 생성"
   ]
  },
  {
   "cell_type": "code",
   "execution_count": 4,
   "id": "1d6e05df",
   "metadata": {},
   "outputs": [],
   "source": [
    "# Sector별 종목명 추출\n",
    "#국내\n",
    "col_kr = kr_price.columns.to_list()\n",
    "\n",
    "소재_kr = kr_sec[kr_sec['sector']=='소재']['종목명'].to_list()\n",
    "col_소재_kr = [x for x in 소재_kr if x in col_kr]\n",
    "kr_price_소재 = kr_price[col_소재_kr]\n",
    "\n",
    "정보기술_kr = kr_sec[kr_sec['sector']=='정보기술']['종목명'].to_list()\n",
    "col_정보_kr = [x for x in 정보기술_kr if x in col_kr]\n",
    "kr_price_정보 = kr_price[col_정보_kr]\n",
    "\n",
    "커뮤니케이션서비스_kr = kr_sec[kr_sec['sector']=='커뮤니케이션서비스']['종목명'].to_list()\n",
    "col_커뮤_kr = [x for x in 커뮤니케이션서비스_kr if x in col_kr]\n",
    "kr_price_커뮤 = kr_price[col_커뮤_kr]\n",
    "\n",
    "\n",
    "금융_kr = kr_sec[kr_sec['sector']=='금융']['종목명'].to_list()\n",
    "col_금융_kr = [x for x in 금융_kr if x in col_kr]\n",
    "kr_price_금융 = kr_price[col_금융_kr]\n",
    "\n",
    "\n",
    "산업재_kr = kr_sec[kr_sec['sector']=='산업재']['종목명'].to_list()\n",
    "col_산업_kr = [x for x in 산업재_kr if x in col_kr]\n",
    "kr_price_산업 = kr_price[col_산업_kr]\n",
    "\n",
    "\n",
    "헬스케어_kr = kr_sec[kr_sec['sector']=='헬스케어']['종목명'].to_list()\n",
    "col_헬스_kr = [x for x in 헬스케어_kr if x in col_kr]\n",
    "kr_price_헬스 = kr_price[col_헬스_kr]\n",
    "\n",
    "\n",
    "#해외\n",
    "col_ov = ov_price.columns.to_list()\n",
    "\n",
    "소재_ov = ov_sec[ov_sec['sector']=='소재']['종목명'].to_list()\n",
    "col_소재_ov = [x for x in 소재_ov if x in col_ov]\n",
    "ov_price_소재 = ov_price[col_소재_ov]\n",
    "\n",
    "정보기술_ov = ov_sec[ov_sec['sector']=='정보기술']['종목명'].to_list()\n",
    "col_정보_ov = [x for x in 정보기술_ov if x in col_ov]\n",
    "ov_price_정보 = ov_price[col_정보_ov]\n",
    "\n",
    "커뮤니케이션서비스_ov = ov_sec[ov_sec['sector']=='커뮤니케이션서비스']['종목명'].to_list()\n",
    "col_커뮤_ov = [x for x in 커뮤니케이션서비스_ov if x in col_ov]\n",
    "ov_price_커뮤 = ov_price[col_커뮤_ov]\n",
    "\n",
    "\n",
    "금융_ov = ov_sec[ov_sec['sector']=='금융']['종목명'].to_list()\n",
    "col_금융_ov = [x for x in 금융_ov if x in col_ov]\n",
    "ov_price_금융 = ov_price[col_금융_ov]\n",
    "\n",
    "\n",
    "산업재_ov = ov_sec[ov_sec['sector']=='산업재']['종목명'].to_list()\n",
    "col_산업_ov = [x for x in 산업재_ov if x in col_ov]\n",
    "ov_price_산업 = ov_price[col_산업_ov]\n",
    "\n",
    "\n",
    "헬스케어_ov = ov_sec[ov_sec['sector']=='헬스케어']['종목명'].to_list()\n",
    "col_헬스_ov = [x for x in 헬스케어_ov if x in col_ov]\n",
    "ov_price_헬스 = ov_price[col_헬스_ov]"
   ]
  },
  {
   "cell_type": "markdown",
   "id": "e394b5dc",
   "metadata": {},
   "source": [
    "# 네트워크 생성"
   ]
  },
  {
   "cell_type": "markdown",
   "id": "284a8158",
   "metadata": {},
   "source": [
    "### Sector 별로 네트워크 생성하므로 좀 더 느슨하게 보기 위해 임계값 0.3으로 조정"
   ]
  },
  {
   "cell_type": "code",
   "execution_count": 5,
   "id": "b993ce42",
   "metadata": {},
   "outputs": [],
   "source": [
    "def generate_network(df):\n",
    "    #상관행렬 생성\n",
    "    stock_per = df.pct_change()\n",
    "    stock_per = stock_per.iloc[1:,:]\n",
    "    stock_cor = stock_per.dropna(axis = 1).corr(method = 'pearson')\n",
    "\n",
    "    # convert matrix to list of edges and rename the columns\n",
    "    edges = stock_cor.stack().reset_index()\n",
    "    edges.columns = [\"종목_1\", \"종목_2\", \"correlation\"]\n",
    "\n",
    "    # remove self correlations\n",
    "    edges = edges.loc[edges[\"종목_1\"] != edges[\"종목_2\"]].copy()\n",
    "\n",
    "    # 임계값(+-0.3) 이하 제거\n",
    "    threshold = 0.3\n",
    "\n",
    "    # 기본 무방향 그래프 생성\n",
    "    Gx = nx.from_pandas_edgelist(edges, \"종목_1\", \"종목_2\", edge_attr=[\"correlation\"])\n",
    "\n",
    "    # list to store edges to remove\n",
    "    remove = []\n",
    "    # loop through edges in Gx and find correlations which are below the threshold\n",
    "    for 종목_1, 종목_2 in Gx.edges():\n",
    "        corr = Gx[종목_1][종목_2][\"correlation\"]\n",
    "        # add to remove node list if abs(corr) < threshold\n",
    "        if abs(corr) < threshold:\n",
    "            remove.append((종목_1, 종목_2))\n",
    "\n",
    "    # remove edges contained in the remove list\n",
    "    Gx.remove_edges_from(remove)\n",
    "    print(str(len(remove)) + \" edges removed\")\n",
    "    return Gx"
   ]
  },
  {
   "cell_type": "code",
   "execution_count": 6,
   "id": "ce5ed585",
   "metadata": {},
   "outputs": [
    {
     "name": "stdout",
     "output_type": "stream",
     "text": [
      "353 edges removed\n",
      "328 edges removed\n",
      "358 edges removed\n",
      "300 edges removed\n",
      "369 edges removed\n",
      "282 edges removed\n",
      "310 edges removed\n",
      "61 edges removed\n",
      "291 edges removed\n",
      "244 edges removed\n",
      "180 edges removed\n",
      "370 edges removed\n"
     ]
    }
   ],
   "source": [
    "Gx_kr_소재 = generate_network(kr_price_소재)\n",
    "Gx_kr_정보 = generate_network(kr_price_정보)\n",
    "Gx_kr_커뮤 = generate_network(kr_price_커뮤)\n",
    "Gx_kr_금융 = generate_network(kr_price_금융)\n",
    "Gx_kr_산업 = generate_network(kr_price_산업)\n",
    "Gx_kr_헬스 = generate_network(kr_price_헬스)\n",
    "\n",
    "Gx_ov_소재 = generate_network(ov_price_소재)\n",
    "Gx_ov_정보 = generate_network(ov_price_정보)\n",
    "Gx_ov_커뮤 = generate_network(ov_price_커뮤)\n",
    "Gx_ov_금융 = generate_network(ov_price_금융)\n",
    "Gx_ov_산업 = generate_network(ov_price_산업)\n",
    "Gx_ov_헬스 = generate_network(ov_price_헬스)"
   ]
  },
  {
   "cell_type": "markdown",
   "id": "bdd49b5a",
   "metadata": {},
   "source": [
    "# Sector 별 중요도 상위 종목 추출"
   ]
  },
  {
   "cell_type": "markdown",
   "id": "847f5269",
   "metadata": {},
   "source": [
    "## 중요도 별 상위 종목 추출 함수"
   ]
  },
  {
   "cell_type": "markdown",
   "id": "59442da7",
   "metadata": {},
   "source": [
    "**각 중요도 상위 5개 종목 추출**\n",
    "\n",
    "**각 중요도에서 3번 이상 선정된 종목 추출**"
   ]
  },
  {
   "cell_type": "code",
   "execution_count": 7,
   "id": "2af3bbab",
   "metadata": {},
   "outputs": [],
   "source": [
    "def generate_top(Gx):\n",
    "    # degree\n",
    "    degree_dict = nx.degree_centrality(Gx)\n",
    "    degree = pd.DataFrame.from_dict(degree_dict, orient = 'index', columns = ['centrality'])\n",
    "    degree.reset_index(inplace=True)\n",
    "    degree.columns = ['종목명','centrality']\n",
    "\n",
    "    degree = pd.merge(degree, kr_sec, how = 'left', on = '종목명')\n",
    "\n",
    "    degree_5 = degree.sort_values(by='centrality', ascending = False).head(5)\n",
    "    degree_5['centrality'] = 'Degree'\n",
    "\n",
    "    # closeness\n",
    "    close_dict = nx.closeness_centrality(Gx)\n",
    "    close = pd.DataFrame.from_dict(close_dict, orient = 'index', columns = ['centrality'])\n",
    "    close.reset_index(inplace=True)\n",
    "    close.columns = ['종목명','centrality']\n",
    "\n",
    "    close = pd.merge(close, kr_sec, how = 'left', on = '종목명')\n",
    "\n",
    "    close_5 = close.sort_values(by='centrality', ascending = False).head(5)\n",
    "    close_5['centrality'] = 'close'\n",
    "\n",
    "    # beetness\n",
    "    beet_dict = nx.betweenness_centrality(Gx, normalized=True, endpoints=False, weight = 'weight')\n",
    "    beet = pd.DataFrame.from_dict(beet_dict, orient = 'index', columns = ['centrality'])\n",
    "    beet.reset_index(inplace=True)\n",
    "    beet.columns = ['종목명','centrality']\n",
    "\n",
    "    beet = pd.merge(beet, kr_sec, how = 'left', on = '종목명')\n",
    "\n",
    "    beet_5 = beet.sort_values(by='centrality', ascending = False).head(5)\n",
    "    beet_5['centrality'] = 'beet'\n",
    "\n",
    "    # eigenness\n",
    "    eigen_dict = nx.eigenvector_centrality(Gx, weight = 'weight', max_iter=5000)\n",
    "    eigen = pd.DataFrame.from_dict(eigen_dict, orient = 'index', columns = ['centrality'])\n",
    "    eigen.reset_index(inplace=True)\n",
    "    eigen.columns = ['종목명','centrality']\n",
    "\n",
    "    eigen = pd.merge(eigen, kr_sec, how = 'left', on = '종목명')\n",
    "\n",
    "    eigen_5 = eigen.sort_values(by='centrality', ascending = False).head(5)\n",
    "    eigen_5['centrality'] = 'eigen'\n",
    "\n",
    "    # pagerankness\n",
    "    pagerank_dict = nx.pagerank(Gx, alpha = .9, max_iter = 1000, weight = 'weight')\n",
    "    pagerank = pd.DataFrame.from_dict(pagerank_dict, orient = 'index', columns = ['centrality'])\n",
    "    pagerank.reset_index(inplace=True)\n",
    "    pagerank.columns = ['종목명','centrality']\n",
    "\n",
    "    pagerank = pd.merge(pagerank, kr_sec, how = 'left', on = '종목명')\n",
    "\n",
    "    pagerank_5 = pagerank.sort_values(by='centrality', ascending = False).head(5)\n",
    "    pagerank_5['centrality'] = 'pagerank'\n",
    "\n",
    "\n",
    "    #중요도 데이터 Merge\n",
    "    centrality_5 = pd.merge(degree_5, close_5, how='outer', on = ['종목명','centrality', 'sector'])\n",
    "    centrality_5 = pd.merge(centrality_5, beet_5, how='outer', on = ['종목명','centrality', 'sector'])\n",
    "    centrality_5 = pd.merge(centrality_5, eigen_5, how='outer', on = ['종목명','centrality', 'sector'])\n",
    "    centrality_5 = pd.merge(centrality_5, pagerank_5, how='outer', on = ['종목명','centrality', 'sector'])\n",
    "\n",
    "    condition = centrality_5['종목명'].value_counts() >= 3\n",
    "    value_num = centrality_5['종목명'].value_counts()\n",
    "\n",
    "    top_stocks = value_num[condition].index.to_list()\n",
    "\n",
    "    return top_stocks"
   ]
  },
  {
   "cell_type": "code",
   "execution_count": 8,
   "id": "aae7ad60",
   "metadata": {},
   "outputs": [],
   "source": [
    "top_stocks_kr_소재 = generate_top(Gx_kr_소재)\n",
    "top_stocks_kr_정보 = generate_top(Gx_kr_정보)\n",
    "top_stocks_kr_커뮤 = generate_top(Gx_kr_커뮤)\n",
    "top_stocks_kr_금융 = generate_top(Gx_kr_금융)\n",
    "top_stocks_kr_산업 = generate_top(Gx_kr_산업)\n",
    "top_stocks_kr_헬스 = generate_top(Gx_kr_헬스)\n",
    "\n",
    "top_stocks_ov_소재 = generate_top(Gx_ov_소재)\n",
    "top_stocks_ov_정보 = generate_top(Gx_ov_정보)\n",
    "top_stocks_ov_커뮤 = generate_top(Gx_ov_커뮤)\n",
    "top_stocks_ov_금융 = generate_top(Gx_ov_금융)\n",
    "top_stocks_ov_산업 = generate_top(Gx_ov_산업)\n",
    "top_stocks_ov_헬스 = generate_top(Gx_ov_헬스)"
   ]
  },
  {
   "cell_type": "code",
   "execution_count": 9,
   "id": "d843c673",
   "metadata": {},
   "outputs": [
    {
     "name": "stdout",
     "output_type": "stream",
     "text": [
      "국내 소재산업 중요 종목 : ['효성첨단소재', '금호석유', 'LG화학', 'SK이노베이션', '동화기업']\n",
      "\n",
      "국내 정보산업 중요 종목 : ['대덕전자', '삼성전자', '심텍', 'SK하이닉스', 'LG이노텍']\n",
      "\n",
      "국내 커뮤산업 중요 종목 : ['다날', '알서포트', '컴투스', '넵튠', '조이시티']\n",
      "\n",
      "국내 금융산업 중요 종목 : ['기업은행', 'GS', '삼성증권', '미래에셋증권', '삼성카드']\n",
      "\n",
      "국내 산업산업 중요 종목 : ['삼성에스디에스', '코웨이', '카카오', '강원랜드']\n",
      "\n",
      "국내 헬스산업 중요 종목 : ['에이비엘바이오', '한미약품', '녹십자', '한올바이오파마']\n"
     ]
    }
   ],
   "source": [
    "print(f'국내 소재산업 중요 종목 : {top_stocks_kr_소재}\\n\\n국내 정보산업 중요 종목 : {top_stocks_kr_정보}\\n\\n국내 커뮤산업 중요 종목 : {top_stocks_kr_커뮤}\\n\\n국내 금융산업 중요 종목 : {top_stocks_kr_금융}\\n\\n국내 산업산업 중요 종목 : {top_stocks_kr_산업}\\n\\n국내 헬스산업 중요 종목 : {top_stocks_kr_헬스}')"
   ]
  },
  {
   "cell_type": "code",
   "execution_count": 10,
   "id": "847294eb",
   "metadata": {},
   "outputs": [
    {
     "name": "stdout",
     "output_type": "stream",
     "text": [
      "해외 소재산업 중요 종목 : ['KALU', 'UFPI', 'PLL', 'CENX', 'IOSP']\n",
      "\n",
      "해외 정보산업 중요 종목 : ['ADBE', 'ADSK', 'AAPL', 'CDNS', 'SNPS']\n",
      "\n",
      "해외 커뮤산업 중요 종목 : ['LBRDK', 'FWONK', 'WBD', 'CMCSA', 'MTCH', 'Z']\n",
      "\n",
      "해외 금융산업 중요 종목 : ['SEIC', 'TPG', 'PFG', 'FITB', 'CG']\n",
      "\n",
      "해외 산업산업 중요 종목 : ['POOL', 'MIDD', 'LECO', 'LSTR', 'ODFL']\n",
      "\n",
      "해외 헬스산업 중요 종목 : ['IDXX', 'ALNY', 'HOLX', 'WBA', 'GILD']\n"
     ]
    }
   ],
   "source": [
    "print(f'해외 소재산업 중요 종목 : {top_stocks_ov_소재}\\n\\n해외 정보산업 중요 종목 : {top_stocks_ov_정보}\\n\\n해외 커뮤산업 중요 종목 : {top_stocks_ov_커뮤}\\n\\n해외 금융산업 중요 종목 : {top_stocks_ov_금융}\\n\\n해외 산업산업 중요 종목 : {top_stocks_ov_산업}\\n\\n해외 헬스산업 중요 종목 : {top_stocks_ov_헬스}')"
   ]
  },
  {
   "cell_type": "markdown",
   "id": "40af4476",
   "metadata": {},
   "source": [
    "# 국내 시각화"
   ]
  },
  {
   "cell_type": "markdown",
   "id": "8168baad",
   "metadata": {},
   "source": [
    "### 소재"
   ]
  },
  {
   "cell_type": "code",
   "execution_count": 11,
   "id": "b429332f",
   "metadata": {},
   "outputs": [
    {
     "name": "stdout",
     "output_type": "stream",
     "text": [
      "Warning: When  cdn_resources is 'local' jupyter notebook has issues displaying graphics on chrome/safari. Use cdn_resources='in_line' or cdn_resources='remote' if you have issues viewing graphics in a notebook.\n",
      "Sector_Importance_kr_소재.html\n"
     ]
    },
    {
     "data": {
      "text/html": [
       "\n",
       "        <iframe\n",
       "            width=\"1200px\"\n",
       "            height=\"1000px\"\n",
       "            src=\"Sector_Importance_kr_소재.html\"\n",
       "            frameborder=\"0\"\n",
       "            allowfullscreen\n",
       "            \n",
       "        ></iframe>\n",
       "        "
      ],
      "text/plain": [
       "<IPython.lib.display.IFrame at 0x186da2aba90>"
      ]
     },
     "execution_count": 11,
     "metadata": {},
     "output_type": "execute_result"
    }
   ],
   "source": [
    "# 노드 사이즈 지정\n",
    "degree_dict = dict(nx.degree(Gx_kr_소재))\n",
    "nsize = np.array([v for v in degree_dict.values()])\n",
    "stock_list = np.array([v for v in degree_dict.keys()])\n",
    "\n",
    "for i, j in enumerate(nsize):\n",
    "    Gx_kr_소재.add_node(stock_list[i], size = nsize[i]*1.1)\n",
    "\n",
    "\n",
    "Gx_kr_소재.add_nodes_from(col_소재_kr, shape = 'dot')\n",
    "\n",
    "Gx_kr_소재.add_nodes_from(top_stocks_kr_소재, shape = 'star', color = 'yellow', size = 20)\n",
    "\n",
    "net = Network(notebook = True, width = '1200px', height = '1000px',\n",
    "             bgcolor = '#222222', font_color = 'white')\n",
    "\n",
    "net.repulsion(node_distance = 100, central_gravity = .01)\n",
    "net.from_nx(Gx_kr_소재)\n",
    "net.show('Sector_Importance_kr_소재.html')"
   ]
  },
  {
   "cell_type": "code",
   "execution_count": 12,
   "id": "c87adebe",
   "metadata": {},
   "outputs": [],
   "source": [
    "net.write_html('Sector_Importance_kr_소재.html')"
   ]
  },
  {
   "cell_type": "markdown",
   "id": "a69795a6",
   "metadata": {},
   "source": [
    "### 정보"
   ]
  },
  {
   "cell_type": "code",
   "execution_count": 13,
   "id": "de0e1b15",
   "metadata": {},
   "outputs": [
    {
     "name": "stdout",
     "output_type": "stream",
     "text": [
      "Warning: When  cdn_resources is 'local' jupyter notebook has issues displaying graphics on chrome/safari. Use cdn_resources='in_line' or cdn_resources='remote' if you have issues viewing graphics in a notebook.\n",
      "Sector_Importance_kr_정보.html\n"
     ]
    },
    {
     "data": {
      "text/html": [
       "\n",
       "        <iframe\n",
       "            width=\"1200px\"\n",
       "            height=\"1000px\"\n",
       "            src=\"Sector_Importance_kr_정보.html\"\n",
       "            frameborder=\"0\"\n",
       "            allowfullscreen\n",
       "            \n",
       "        ></iframe>\n",
       "        "
      ],
      "text/plain": [
       "<IPython.lib.display.IFrame at 0x186da286750>"
      ]
     },
     "execution_count": 13,
     "metadata": {},
     "output_type": "execute_result"
    }
   ],
   "source": [
    "# 노드 사이즈 지정\n",
    "degree_dict = dict(nx.degree(Gx_kr_정보))\n",
    "nsize = np.array([v for v in degree_dict.values()])\n",
    "stock_list = np.array([v for v in degree_dict.keys()])\n",
    "\n",
    "for i, j in enumerate(nsize):\n",
    "    Gx_kr_정보.add_node(stock_list[i], size = nsize[i]*1.1)\n",
    "\n",
    "\n",
    "Gx_kr_정보.add_nodes_from(col_정보_kr, shape = 'dot')\n",
    "\n",
    "Gx_kr_정보.add_nodes_from(top_stocks_kr_정보, shape = 'star', color = 'yellow', size = 20)\n",
    "\n",
    "net = Network(notebook = True, width = '1200px', height = '1000px',\n",
    "             bgcolor = '#222222', font_color = 'white')\n",
    "\n",
    "net.repulsion(node_distance = 100, central_gravity = .01)\n",
    "net.from_nx(Gx_kr_정보)\n",
    "net.show('Sector_Importance_kr_정보.html')"
   ]
  },
  {
   "cell_type": "code",
   "execution_count": 14,
   "id": "4cddd493",
   "metadata": {},
   "outputs": [],
   "source": [
    "net.write_html('Sector_Importance_kr_정보.html')"
   ]
  },
  {
   "cell_type": "markdown",
   "id": "ffa6108c",
   "metadata": {},
   "source": [
    "### 커뮤"
   ]
  },
  {
   "cell_type": "code",
   "execution_count": 15,
   "id": "d3f0f27d",
   "metadata": {},
   "outputs": [
    {
     "name": "stdout",
     "output_type": "stream",
     "text": [
      "Warning: When  cdn_resources is 'local' jupyter notebook has issues displaying graphics on chrome/safari. Use cdn_resources='in_line' or cdn_resources='remote' if you have issues viewing graphics in a notebook.\n",
      "Sector_Importance_kr_커뮤.html\n"
     ]
    },
    {
     "data": {
      "text/html": [
       "\n",
       "        <iframe\n",
       "            width=\"1200px\"\n",
       "            height=\"1000px\"\n",
       "            src=\"Sector_Importance_kr_커뮤.html\"\n",
       "            frameborder=\"0\"\n",
       "            allowfullscreen\n",
       "            \n",
       "        ></iframe>\n",
       "        "
      ],
      "text/plain": [
       "<IPython.lib.display.IFrame at 0x186da11b410>"
      ]
     },
     "execution_count": 15,
     "metadata": {},
     "output_type": "execute_result"
    }
   ],
   "source": [
    "# 노드 사이즈 지정\n",
    "degree_dict = dict(nx.degree(Gx_kr_커뮤))\n",
    "nsize = np.array([v for v in degree_dict.values()])\n",
    "stock_list = np.array([v for v in degree_dict.keys()])\n",
    "\n",
    "for i, j in enumerate(nsize):\n",
    "    Gx_kr_커뮤.add_node(stock_list[i], size = nsize[i]*1.1)\n",
    "\n",
    "\n",
    "Gx_kr_커뮤.add_nodes_from(col_커뮤_kr, shape = 'dot')\n",
    "\n",
    "Gx_kr_커뮤.add_nodes_from(top_stocks_kr_커뮤, shape = 'star', color = 'yellow', size = 20)\n",
    "\n",
    "net = Network(notebook = True, width = '1200px', height = '1000px',\n",
    "             bgcolor = '#222222', font_color = 'white')\n",
    "\n",
    "net.repulsion(node_distance = 100, central_gravity = .01)\n",
    "net.from_nx(Gx_kr_커뮤)\n",
    "net.show('Sector_Importance_kr_커뮤.html')"
   ]
  },
  {
   "cell_type": "code",
   "execution_count": 16,
   "id": "c3127429",
   "metadata": {},
   "outputs": [],
   "source": [
    "net.write_html('Sector_Importance_kr_커뮤.html')"
   ]
  },
  {
   "cell_type": "markdown",
   "id": "c74e470e",
   "metadata": {},
   "source": [
    "### 금융"
   ]
  },
  {
   "cell_type": "code",
   "execution_count": 17,
   "id": "32d5de9b",
   "metadata": {},
   "outputs": [
    {
     "name": "stdout",
     "output_type": "stream",
     "text": [
      "Warning: When  cdn_resources is 'local' jupyter notebook has issues displaying graphics on chrome/safari. Use cdn_resources='in_line' or cdn_resources='remote' if you have issues viewing graphics in a notebook.\n",
      "Sector_Importance_kr_금융.html\n"
     ]
    },
    {
     "data": {
      "text/html": [
       "\n",
       "        <iframe\n",
       "            width=\"1200px\"\n",
       "            height=\"1000px\"\n",
       "            src=\"Sector_Importance_kr_금융.html\"\n",
       "            frameborder=\"0\"\n",
       "            allowfullscreen\n",
       "            \n",
       "        ></iframe>\n",
       "        "
      ],
      "text/plain": [
       "<IPython.lib.display.IFrame at 0x186da2ab590>"
      ]
     },
     "execution_count": 17,
     "metadata": {},
     "output_type": "execute_result"
    }
   ],
   "source": [
    "# 노드 사이즈 지정\n",
    "degree_dict = dict(nx.degree(Gx_kr_금융))\n",
    "nsize = np.array([v for v in degree_dict.values()])\n",
    "stock_list = np.array([v for v in degree_dict.keys()])\n",
    "\n",
    "for i, j in enumerate(nsize):\n",
    "    Gx_kr_금융.add_node(stock_list[i], size = nsize[i]*1.1)\n",
    "\n",
    "\n",
    "Gx_kr_금융.add_nodes_from(col_금융_kr, shape = 'dot')\n",
    "\n",
    "Gx_kr_금융.add_nodes_from(top_stocks_kr_금융, shape = 'star', color = 'yellow', size = 20)\n",
    "\n",
    "net = Network(notebook = True, width = '1200px', height = '1000px',\n",
    "             bgcolor = '#222222', font_color = 'white')\n",
    "\n",
    "net.repulsion(node_distance = 100, central_gravity = .01)\n",
    "net.from_nx(Gx_kr_금융)\n",
    "net.show('Sector_Importance_kr_금융.html')"
   ]
  },
  {
   "cell_type": "code",
   "execution_count": 18,
   "id": "c798cb99",
   "metadata": {},
   "outputs": [],
   "source": [
    "net.write_html('Sector_Importance_kr_금융.html')"
   ]
  },
  {
   "cell_type": "markdown",
   "id": "3c10fcf4",
   "metadata": {},
   "source": [
    "### 산업"
   ]
  },
  {
   "cell_type": "code",
   "execution_count": 19,
   "id": "5fb7ea1e",
   "metadata": {},
   "outputs": [
    {
     "name": "stdout",
     "output_type": "stream",
     "text": [
      "Warning: When  cdn_resources is 'local' jupyter notebook has issues displaying graphics on chrome/safari. Use cdn_resources='in_line' or cdn_resources='remote' if you have issues viewing graphics in a notebook.\n",
      "Sector_Importance_kr_산업.html\n"
     ]
    },
    {
     "data": {
      "text/html": [
       "\n",
       "        <iframe\n",
       "            width=\"1200px\"\n",
       "            height=\"1000px\"\n",
       "            src=\"Sector_Importance_kr_산업.html\"\n",
       "            frameborder=\"0\"\n",
       "            allowfullscreen\n",
       "            \n",
       "        ></iframe>\n",
       "        "
      ],
      "text/plain": [
       "<IPython.lib.display.IFrame at 0x186da2abd90>"
      ]
     },
     "execution_count": 19,
     "metadata": {},
     "output_type": "execute_result"
    }
   ],
   "source": [
    "# 노드 사이즈 지정\n",
    "degree_dict = dict(nx.degree(Gx_kr_산업))\n",
    "nsize = np.array([v for v in degree_dict.values()])\n",
    "stock_list = np.array([v for v in degree_dict.keys()])\n",
    "\n",
    "for i, j in enumerate(nsize):\n",
    "    Gx_kr_산업.add_node(stock_list[i], size = nsize[i]*1.1)\n",
    "\n",
    "\n",
    "Gx_kr_산업.add_nodes_from(col_산업_kr, shape = 'dot')\n",
    "\n",
    "Gx_kr_산업.add_nodes_from(top_stocks_kr_산업, shape = 'star', color = 'yellow', size = 20)\n",
    "\n",
    "net = Network(notebook = True, width = '1200px', height = '1000px',\n",
    "             bgcolor = '#222222', font_color = 'white')\n",
    "\n",
    "net.repulsion(node_distance = 100, central_gravity = .01)\n",
    "net.from_nx(Gx_kr_산업)\n",
    "net.show('Sector_Importance_kr_산업.html')"
   ]
  },
  {
   "cell_type": "code",
   "execution_count": 20,
   "id": "c51d261b",
   "metadata": {},
   "outputs": [],
   "source": [
    "net.write_html('Sector_Importance_kr_산업.html')"
   ]
  },
  {
   "cell_type": "markdown",
   "id": "4fa3e83c",
   "metadata": {},
   "source": [
    "### 헬스 산업"
   ]
  },
  {
   "cell_type": "code",
   "execution_count": 21,
   "id": "27302734",
   "metadata": {},
   "outputs": [
    {
     "name": "stdout",
     "output_type": "stream",
     "text": [
      "Warning: When  cdn_resources is 'local' jupyter notebook has issues displaying graphics on chrome/safari. Use cdn_resources='in_line' or cdn_resources='remote' if you have issues viewing graphics in a notebook.\n",
      "Sector_Importance_kr_헬스.html\n"
     ]
    },
    {
     "data": {
      "text/html": [
       "\n",
       "        <iframe\n",
       "            width=\"1200px\"\n",
       "            height=\"1000px\"\n",
       "            src=\"Sector_Importance_kr_헬스.html\"\n",
       "            frameborder=\"0\"\n",
       "            allowfullscreen\n",
       "            \n",
       "        ></iframe>\n",
       "        "
      ],
      "text/plain": [
       "<IPython.lib.display.IFrame at 0x186da149450>"
      ]
     },
     "execution_count": 21,
     "metadata": {},
     "output_type": "execute_result"
    }
   ],
   "source": [
    "# 노드 사이즈 지정\n",
    "degree_dict = dict(nx.degree(Gx_kr_헬스))\n",
    "nsize = np.array([v for v in degree_dict.values()])\n",
    "stock_list = np.array([v for v in degree_dict.keys()])\n",
    "\n",
    "for i, j in enumerate(nsize):\n",
    "    Gx_kr_헬스.add_node(stock_list[i], size = nsize[i]*1.1)\n",
    "\n",
    "\n",
    "Gx_kr_헬스.add_nodes_from(col_헬스_kr, shape = 'dot')\n",
    "\n",
    "Gx_kr_헬스.add_nodes_from(top_stocks_kr_헬스, shape = 'star', color = 'yellow', size = 20)\n",
    "\n",
    "net = Network(notebook = True, width = '1200px', height = '1000px',\n",
    "             bgcolor = '#222222', font_color = 'white')\n",
    "\n",
    "net.repulsion(node_distance = 100, central_gravity = .01)\n",
    "net.from_nx(Gx_kr_헬스)\n",
    "net.show('Sector_Importance_kr_헬스.html')"
   ]
  },
  {
   "cell_type": "code",
   "execution_count": 22,
   "id": "10108303",
   "metadata": {},
   "outputs": [],
   "source": [
    "net.write_html('Sector_Importance_kr_헬스.html')"
   ]
  },
  {
   "cell_type": "markdown",
   "id": "a76778c6",
   "metadata": {},
   "source": [
    "# 해외"
   ]
  },
  {
   "cell_type": "markdown",
   "id": "9c7fda0a",
   "metadata": {},
   "source": [
    "### 소재"
   ]
  },
  {
   "cell_type": "code",
   "execution_count": 23,
   "id": "22d93253",
   "metadata": {},
   "outputs": [
    {
     "name": "stdout",
     "output_type": "stream",
     "text": [
      "Warning: When  cdn_resources is 'local' jupyter notebook has issues displaying graphics on chrome/safari. Use cdn_resources='in_line' or cdn_resources='remote' if you have issues viewing graphics in a notebook.\n",
      "Sector_Importance_ov_소재.html\n"
     ]
    },
    {
     "data": {
      "text/html": [
       "\n",
       "        <iframe\n",
       "            width=\"1200px\"\n",
       "            height=\"1000px\"\n",
       "            src=\"Sector_Importance_ov_소재.html\"\n",
       "            frameborder=\"0\"\n",
       "            allowfullscreen\n",
       "            \n",
       "        ></iframe>\n",
       "        "
      ],
      "text/plain": [
       "<IPython.lib.display.IFrame at 0x186da2c5e50>"
      ]
     },
     "execution_count": 23,
     "metadata": {},
     "output_type": "execute_result"
    }
   ],
   "source": [
    "# 노드 사이즈 지정\n",
    "degree_dict = dict(nx.degree(Gx_ov_소재))\n",
    "nsize = np.array([v for v in degree_dict.values()])\n",
    "stock_list = np.array([v for v in degree_dict.keys()])\n",
    "\n",
    "for i, j in enumerate(nsize):\n",
    "    Gx_ov_소재.add_node(stock_list[i], size = nsize[i]*.5)\n",
    "\n",
    "\n",
    "Gx_ov_소재.add_nodes_from(col_소재_ov, shape = 'dot')\n",
    "\n",
    "Gx_ov_소재.add_nodes_from(top_stocks_ov_소재, shape = 'star', color = 'yellow', size = 20)\n",
    "\n",
    "net = Network(notebook = True, width = '1200px', height = '1000px',\n",
    "             bgcolor = '#222222', font_color = 'white')\n",
    "\n",
    "net.repulsion(node_distance = 100, central_gravity = .01)\n",
    "net.from_nx(Gx_ov_소재)\n",
    "net.show('Sector_Importance_ov_소재.html')"
   ]
  },
  {
   "cell_type": "code",
   "execution_count": 24,
   "id": "d6a777fe",
   "metadata": {},
   "outputs": [],
   "source": [
    "net.write_html('Sector_Importance_ov_소재.html')"
   ]
  },
  {
   "cell_type": "markdown",
   "id": "742b1f85",
   "metadata": {},
   "source": [
    "### 정보"
   ]
  },
  {
   "cell_type": "code",
   "execution_count": 25,
   "id": "af11f584",
   "metadata": {},
   "outputs": [
    {
     "name": "stdout",
     "output_type": "stream",
     "text": [
      "Warning: When  cdn_resources is 'local' jupyter notebook has issues displaying graphics on chrome/safari. Use cdn_resources='in_line' or cdn_resources='remote' if you have issues viewing graphics in a notebook.\n",
      "Sector_Importance_ov_정보.html\n"
     ]
    },
    {
     "data": {
      "text/html": [
       "\n",
       "        <iframe\n",
       "            width=\"1200px\"\n",
       "            height=\"1000px\"\n",
       "            src=\"Sector_Importance_ov_정보.html\"\n",
       "            frameborder=\"0\"\n",
       "            allowfullscreen\n",
       "            \n",
       "        ></iframe>\n",
       "        "
      ],
      "text/plain": [
       "<IPython.lib.display.IFrame at 0x186da284c10>"
      ]
     },
     "execution_count": 25,
     "metadata": {},
     "output_type": "execute_result"
    }
   ],
   "source": [
    "# 노드 사이즈 지정\n",
    "degree_dict = dict(nx.degree(Gx_ov_정보))\n",
    "nsize = np.array([v for v in degree_dict.values()])\n",
    "stock_list = np.array([v for v in degree_dict.keys()])\n",
    "\n",
    "for i, j in enumerate(nsize):\n",
    "    Gx_ov_정보.add_node(stock_list[i], size = nsize[i]*.5)\n",
    "\n",
    "\n",
    "Gx_ov_정보.add_nodes_from(col_정보_ov, shape = 'dot')\n",
    "\n",
    "Gx_ov_정보.add_nodes_from(top_stocks_ov_정보, shape = 'star', color = 'yellow', size = 20)\n",
    "\n",
    "net = Network(notebook = True, width = '1200px', height = '1000px',\n",
    "             bgcolor = '#222222', font_color = 'white')\n",
    "\n",
    "net.repulsion(node_distance = 100, central_gravity = .01)\n",
    "net.from_nx(Gx_ov_정보)\n",
    "net.show('Sector_Importance_ov_정보.html')"
   ]
  },
  {
   "cell_type": "code",
   "execution_count": 26,
   "id": "11e8877b",
   "metadata": {},
   "outputs": [],
   "source": [
    "net.write_html('Sector_Importance_ov_정보.html')"
   ]
  },
  {
   "cell_type": "markdown",
   "id": "313bad0f",
   "metadata": {},
   "source": [
    "### 커뮤"
   ]
  },
  {
   "cell_type": "code",
   "execution_count": 27,
   "id": "71515cff",
   "metadata": {},
   "outputs": [
    {
     "name": "stdout",
     "output_type": "stream",
     "text": [
      "Warning: When  cdn_resources is 'local' jupyter notebook has issues displaying graphics on chrome/safari. Use cdn_resources='in_line' or cdn_resources='remote' if you have issues viewing graphics in a notebook.\n",
      "Sector_Importance_ov_커뮤.html\n"
     ]
    },
    {
     "data": {
      "text/html": [
       "\n",
       "        <iframe\n",
       "            width=\"1200px\"\n",
       "            height=\"1000px\"\n",
       "            src=\"Sector_Importance_ov_커뮤.html\"\n",
       "            frameborder=\"0\"\n",
       "            allowfullscreen\n",
       "            \n",
       "        ></iframe>\n",
       "        "
      ],
      "text/plain": [
       "<IPython.lib.display.IFrame at 0x186da306c90>"
      ]
     },
     "execution_count": 27,
     "metadata": {},
     "output_type": "execute_result"
    }
   ],
   "source": [
    "# 노드 사이즈 지정\n",
    "degree_dict = dict(nx.degree(Gx_ov_커뮤))\n",
    "nsize = np.array([v for v in degree_dict.values()])\n",
    "stock_list = np.array([v for v in degree_dict.keys()])\n",
    "\n",
    "for i, j in enumerate(nsize):\n",
    "    Gx_ov_커뮤.add_node(stock_list[i], size = nsize[i]*.5)\n",
    "\n",
    "\n",
    "Gx_ov_커뮤.add_nodes_from(col_커뮤_ov, shape = 'dot')\n",
    "\n",
    "Gx_ov_커뮤.add_nodes_from(top_stocks_ov_커뮤, shape = 'star', color = 'yellow', size = 20)\n",
    "\n",
    "net = Network(notebook = True, width = '1200px', height = '1000px',\n",
    "             bgcolor = '#222222', font_color = 'white')\n",
    "\n",
    "net.repulsion(node_distance = 100, central_gravity = .01)\n",
    "net.from_nx(Gx_ov_커뮤)\n",
    "net.show('Sector_Importance_ov_커뮤.html')"
   ]
  },
  {
   "cell_type": "code",
   "execution_count": 28,
   "id": "4e5c87b6",
   "metadata": {},
   "outputs": [],
   "source": [
    "net.write_html('Sector_Importance_ov_커뮤.html')"
   ]
  },
  {
   "cell_type": "markdown",
   "id": "aaf6af05",
   "metadata": {},
   "source": [
    "### 금융"
   ]
  },
  {
   "cell_type": "code",
   "execution_count": 29,
   "id": "c4e10877",
   "metadata": {},
   "outputs": [
    {
     "name": "stdout",
     "output_type": "stream",
     "text": [
      "Warning: When  cdn_resources is 'local' jupyter notebook has issues displaying graphics on chrome/safari. Use cdn_resources='in_line' or cdn_resources='remote' if you have issues viewing graphics in a notebook.\n",
      "Sector_Importance_ov_금융.html\n"
     ]
    },
    {
     "data": {
      "text/html": [
       "\n",
       "        <iframe\n",
       "            width=\"1200px\"\n",
       "            height=\"1000px\"\n",
       "            src=\"Sector_Importance_ov_금융.html\"\n",
       "            frameborder=\"0\"\n",
       "            allowfullscreen\n",
       "            \n",
       "        ></iframe>\n",
       "        "
      ],
      "text/plain": [
       "<IPython.lib.display.IFrame at 0x186da2210d0>"
      ]
     },
     "execution_count": 29,
     "metadata": {},
     "output_type": "execute_result"
    }
   ],
   "source": [
    "# 노드 사이즈 지정\n",
    "degree_dict = dict(nx.degree(Gx_ov_금융))\n",
    "nsize = np.array([v for v in degree_dict.values()])\n",
    "stock_list = np.array([v for v in degree_dict.keys()])\n",
    "\n",
    "for i, j in enumerate(nsize):\n",
    "    Gx_ov_금융.add_node(stock_list[i], size = nsize[i]*.5)\n",
    "\n",
    "\n",
    "Gx_ov_금융.add_nodes_from(col_금융_ov, shape = 'dot')\n",
    "\n",
    "Gx_ov_금융.add_nodes_from(top_stocks_ov_금융, shape = 'star', color = 'yellow', size = 20)\n",
    "\n",
    "net = Network(notebook = True, width = '1200px', height = '1000px',\n",
    "             bgcolor = '#222222', font_color = 'white')\n",
    "\n",
    "net.repulsion(node_distance = 100, central_gravity = .01)\n",
    "net.from_nx(Gx_ov_금융)\n",
    "net.show('Sector_Importance_ov_금융.html')"
   ]
  },
  {
   "cell_type": "code",
   "execution_count": 30,
   "id": "db4aab8d",
   "metadata": {},
   "outputs": [],
   "source": [
    "net.write_html('Sector_Importance_ov_금융.html')"
   ]
  },
  {
   "cell_type": "markdown",
   "id": "7302674f",
   "metadata": {},
   "source": [
    "### 산업"
   ]
  },
  {
   "cell_type": "code",
   "execution_count": 31,
   "id": "1985f1c3",
   "metadata": {},
   "outputs": [
    {
     "name": "stdout",
     "output_type": "stream",
     "text": [
      "Warning: When  cdn_resources is 'local' jupyter notebook has issues displaying graphics on chrome/safari. Use cdn_resources='in_line' or cdn_resources='remote' if you have issues viewing graphics in a notebook.\n",
      "Sector_Importance_ov_산업.html\n"
     ]
    },
    {
     "data": {
      "text/html": [
       "\n",
       "        <iframe\n",
       "            width=\"1200px\"\n",
       "            height=\"1000px\"\n",
       "            src=\"Sector_Importance_ov_산업.html\"\n",
       "            frameborder=\"0\"\n",
       "            allowfullscreen\n",
       "            \n",
       "        ></iframe>\n",
       "        "
      ],
      "text/plain": [
       "<IPython.lib.display.IFrame at 0x186da14c450>"
      ]
     },
     "execution_count": 31,
     "metadata": {},
     "output_type": "execute_result"
    }
   ],
   "source": [
    "# 노드 사이즈 지정\n",
    "degree_dict = dict(nx.degree(Gx_ov_산업))\n",
    "nsize = np.array([v for v in degree_dict.values()])\n",
    "stock_list = np.array([v for v in degree_dict.keys()])\n",
    "\n",
    "for i, j in enumerate(nsize):\n",
    "    Gx_ov_산업.add_node(stock_list[i], size = nsize[i]*.5)\n",
    "\n",
    "\n",
    "Gx_ov_산업.add_nodes_from(col_산업_ov, shape = 'dot')\n",
    "\n",
    "Gx_ov_산업.add_nodes_from(top_stocks_ov_산업, shape = 'star', color = 'yellow', size = 20)\n",
    "\n",
    "net = Network(notebook = True, width = '1200px', height = '1000px',\n",
    "             bgcolor = '#222222', font_color = 'white')\n",
    "\n",
    "net.repulsion(node_distance = 100, central_gravity = .01)\n",
    "net.from_nx(Gx_ov_산업)\n",
    "net.show('Sector_Importance_ov_산업.html')"
   ]
  },
  {
   "cell_type": "code",
   "execution_count": 32,
   "id": "38563cf6",
   "metadata": {},
   "outputs": [],
   "source": [
    "net.write_html('Sector_Importance_ov_산업.html')"
   ]
  },
  {
   "cell_type": "markdown",
   "id": "a85053e4",
   "metadata": {},
   "source": [
    "### 헬스"
   ]
  },
  {
   "cell_type": "code",
   "execution_count": 33,
   "id": "f0160fb7",
   "metadata": {},
   "outputs": [
    {
     "name": "stdout",
     "output_type": "stream",
     "text": [
      "Warning: When  cdn_resources is 'local' jupyter notebook has issues displaying graphics on chrome/safari. Use cdn_resources='in_line' or cdn_resources='remote' if you have issues viewing graphics in a notebook.\n",
      "Sector_Importance_ov_헬스.html\n"
     ]
    },
    {
     "data": {
      "text/html": [
       "\n",
       "        <iframe\n",
       "            width=\"1200px\"\n",
       "            height=\"1000px\"\n",
       "            src=\"Sector_Importance_ov_헬스.html\"\n",
       "            frameborder=\"0\"\n",
       "            allowfullscreen\n",
       "            \n",
       "        ></iframe>\n",
       "        "
      ],
      "text/plain": [
       "<IPython.lib.display.IFrame at 0x186da1a7ad0>"
      ]
     },
     "execution_count": 33,
     "metadata": {},
     "output_type": "execute_result"
    }
   ],
   "source": [
    "# 노드 사이즈 지정\n",
    "degree_dict = dict(nx.degree(Gx_ov_헬스))\n",
    "nsize = np.array([v for v in degree_dict.values()])\n",
    "stock_list = np.array([v for v in degree_dict.keys()])\n",
    "\n",
    "for i, j in enumerate(nsize):\n",
    "    Gx_ov_헬스.add_node(stock_list[i], size = nsize[i]*.5)\n",
    "\n",
    "\n",
    "Gx_ov_헬스.add_nodes_from(col_헬스_ov, shape = 'dot')\n",
    "\n",
    "Gx_ov_헬스.add_nodes_from(top_stocks_ov_헬스, shape = 'star', color = 'yellow', size = 20)\n",
    "\n",
    "net = Network(notebook = True, width = '1200px', height = '1000px',\n",
    "             bgcolor = '#222222', font_color = 'white')\n",
    "\n",
    "net.repulsion(node_distance = 100, central_gravity = .01)\n",
    "net.from_nx(Gx_ov_헬스)\n",
    "net.show('Sector_Importance_ov_헬스.html')"
   ]
  },
  {
   "cell_type": "code",
   "execution_count": 34,
   "id": "fbe6a817",
   "metadata": {},
   "outputs": [],
   "source": [
    "net.write_html('Sector_Importance_ov_헬스.html')"
   ]
  }
 ],
 "metadata": {
  "kernelspec": {
   "display_name": "Python 3 (ipykernel)",
   "language": "python",
   "name": "python3"
  },
  "language_info": {
   "codemirror_mode": {
    "name": "ipython",
    "version": 3
   },
   "file_extension": ".py",
   "mimetype": "text/x-python",
   "name": "python",
   "nbconvert_exporter": "python",
   "pygments_lexer": "ipython3",
   "version": "3.9.7"
  }
 },
 "nbformat": 4,
 "nbformat_minor": 5
}
