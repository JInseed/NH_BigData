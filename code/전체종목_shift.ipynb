{
 "cells": [
  {
   "cell_type": "code",
   "execution_count": 1,
   "id": "fa9f831c",
   "metadata": {},
   "outputs": [],
   "source": [
    "import matplotlib.pyplot as plt\n",
    "import networkx as nx\n",
    "from pyvis.network import Network\n",
    "import numpy as np\n",
    "import pandas as pd\n",
    "import plotly.graph_objs as go\n",
    "import seaborn as sns"
   ]
  },
  {
   "cell_type": "code",
   "execution_count": 2,
   "id": "5e21b898",
   "metadata": {},
   "outputs": [],
   "source": [
    "# Data Load\n",
    "kr_sec = pd.read_csv('C:/Users/Administrator/Desktop/비어플_NH_last/1028/kr_sec_180.csv', index_col = 0)\n",
    "ov_sec = pd.read_csv('C:/Users/Administrator/Desktop/비어플_NH_last/1028/ov_sec_180.csv', index_col = 0)\n",
    "kr_price = pd.read_csv('C:/Users/Administrator/Desktop/비어플_NH_last/1028/kr_price_180.csv', index_col = 0)\n",
    "ov_price = pd.read_csv('C:/Users/Administrator/Desktop/비어플_NH_last/1028/ov_price_180.csv', index_col = 0)\n",
    "eco = pd.read_csv('C:/Users/Administrator/Desktop/비어플_NH_last/1028/economics.csv', index_col = 0)"
   ]
  },
  {
   "cell_type": "code",
   "execution_count": 3,
   "id": "d6732980",
   "metadata": {},
   "outputs": [],
   "source": [
    "# Sector별 종목명 추출\n",
    "#국내\n",
    "col_kr = kr_price.columns.to_list()\n",
    "\n",
    "소재_kr = kr_sec[kr_sec['sector']=='소재']['종목명'].to_list()\n",
    "col_소재_kr = [x for x in 소재_kr if x in col_kr]\n",
    "\n",
    "정보기술_kr = kr_sec[kr_sec['sector']=='정보기술']['종목명'].to_list()\n",
    "col_정보_kr = [x for x in 정보기술_kr if x in col_kr]\n",
    "\n",
    "커뮤니케이션서비스_kr = kr_sec[kr_sec['sector']=='커뮤니케이션서비스']['종목명'].to_list()\n",
    "col_커뮤_kr = [x for x in 커뮤니케이션서비스_kr if x in col_kr]\n",
    "\n",
    "금융_kr = kr_sec[kr_sec['sector']=='금융']['종목명'].to_list()\n",
    "col_금융_kr = [x for x in 금융_kr if x in col_kr]\n",
    "\n",
    "산업재_kr = kr_sec[kr_sec['sector']=='산업재']['종목명'].to_list()\n",
    "col_산업_kr = [x for x in 산업재_kr if x in col_kr]\n",
    "\n",
    "헬스케어_kr = kr_sec[kr_sec['sector']=='헬스케어']['종목명'].to_list()\n",
    "col_헬스_kr = [x for x in 헬스케어_kr if x in col_kr]\n",
    "\n",
    "#해외\n",
    "col_ov = ov_price.columns.to_list()\n",
    "\n",
    "소재_ov = ov_sec[ov_sec['sector']=='소재']['종목명'].to_list()\n",
    "col_소재_ov = [x for x in 소재_ov if x in col_ov]\n",
    "\n",
    "정보기술_ov = ov_sec[ov_sec['sector']=='정보기술']['종목명'].to_list()\n",
    "col_정보_ov = [x for x in 정보기술_ov if x in col_ov]\n",
    "\n",
    "커뮤니케이션서비스_ov = ov_sec[ov_sec['sector']=='커뮤니케이션서비스']['종목명'].to_list()\n",
    "col_커뮤_ov = [x for x in 커뮤니케이션서비스_ov if x in col_ov]\n",
    "\n",
    "금융_ov = ov_sec[ov_sec['sector']=='금융']['종목명'].to_list()\n",
    "col_금융_ov = [x for x in 금융_ov if x in col_ov]\n",
    "\n",
    "산업재_ov = ov_sec[ov_sec['sector']=='산업재']['종목명'].to_list()\n",
    "col_산업_ov = [x for x in 산업재_ov if x in col_ov]\n",
    "\n",
    "헬스케어_ov = ov_sec[ov_sec['sector']=='헬스케어']['종목명'].to_list()\n",
    "col_헬스_ov = [x for x in 헬스케어_ov if x in col_ov]"
   ]
  },
  {
   "cell_type": "code",
   "execution_count": 4,
   "id": "6beb9279",
   "metadata": {},
   "outputs": [],
   "source": [
    "#kr_price.set_index(keys = 'Date', inplace = True)\n",
    "#ov_price.set_index(keys = 'Date', inplace = True)\n",
    "#eco.set_index(keys = 'Date', inplace = True)"
   ]
  },
  {
   "cell_type": "code",
   "execution_count": 5,
   "id": "3ee8d615",
   "metadata": {},
   "outputs": [
    {
     "name": "stdout",
     "output_type": "stream",
     "text": [
      "61743 edges removed\n"
     ]
    }
   ],
   "source": [
    "#상관행렬 생성\n",
    "kr_per = kr_price.pct_change()\n",
    "kr_per = kr_per.iloc[1:,:]\n",
    "\n",
    "ov_per = ov_price.pct_change()\n",
    "ov_per = ov_per.iloc[1:,:]\n",
    "\n",
    "ov_per = ov_per.shift(0)\n",
    "\n",
    "stock = pd.merge(kr_per, ov_per, how = 'left', left_index=True, right_index=True)\n",
    "stock_cor = stock.iloc[0:,:].dropna(axis = 1).corr(method = 'pearson')\n",
    "\n",
    "# convert matrix to list of edges and rename the columns\n",
    "edges = stock_cor.stack().reset_index()\n",
    "edges.columns = [\"종목_1\", \"종목_2\", \"correlation\"]\n",
    "\n",
    "# remove self correlations\n",
    "edges = edges.loc[edges[\"종목_1\"] != edges[\"종목_2\"]].copy()\n",
    "\n",
    "# 임계값(+-0.6) 이하 제거\n",
    "threshold = 0.4\n",
    "\n",
    "# 기본 무방향 그래프 생성\n",
    "Gx = nx.from_pandas_edgelist(edges, \"종목_1\", \"종목_2\", edge_attr=[\"correlation\"])\n",
    "\n",
    "# list to store edges to remove\n",
    "remove = []\n",
    "# loop through edges in Gx and find correlations which are below the threshold\n",
    "for 종목_1, 종목_2 in Gx.edges():\n",
    "    corr = Gx[종목_1][종목_2][\"correlation\"]\n",
    "    # add to remove node list if abs(corr) < threshold\n",
    "    if abs(corr) < threshold:\n",
    "        remove.append((종목_1, 종목_2))\n",
    "\n",
    "# remove edges contained in the remove list\n",
    "Gx.remove_edges_from(remove)\n",
    "\n",
    "print(str(len(remove)) + \" edges removed\")"
   ]
  },
  {
   "cell_type": "code",
   "execution_count": 6,
   "id": "7d18470e",
   "metadata": {},
   "outputs": [
    {
     "name": "stdout",
     "output_type": "stream",
     "text": [
      "Warning: When  cdn_resources is 'local' jupyter notebook has issues displaying graphics on chrome/safari. Use cdn_resources='in_line' or cdn_resources='remote' if you have issues viewing graphics in a notebook.\n",
      "All_Sector.html\n"
     ]
    },
    {
     "data": {
      "text/html": [
       "\n",
       "        <iframe\n",
       "            width=\"1200px\"\n",
       "            height=\"1000px\"\n",
       "            src=\"All_Sector.html\"\n",
       "            frameborder=\"0\"\n",
       "            allowfullscreen\n",
       "            \n",
       "        ></iframe>\n",
       "        "
      ],
      "text/plain": [
       "<IPython.lib.display.IFrame at 0x1cdc8fc5810>"
      ]
     },
     "execution_count": 6,
     "metadata": {},
     "output_type": "execute_result"
    }
   ],
   "source": [
    "# 국내인지 해외인지 속성 부여하기\n",
    "korea = kr_price.columns.to_list()\n",
    "nasdaq = ov_price.columns.to_list()\n",
    "\n",
    "Gx.add_nodes_from(korea, shape = 'star')\n",
    "Gx.add_nodes_from(nasdaq, shape = 'dot')\n",
    "\n",
    "#노드 사이즈가 지정\n",
    "degree_dict = dict(nx.degree(Gx))\n",
    "nsize = np.array([v for v in degree_dict.values()])\n",
    "stock_list = np.array([v for v in degree_dict.keys()])\n",
    "\n",
    "for i, j in enumerate(nsize):\n",
    "    Gx.add_node(stock_list[i], size = nsize[i]*.1)\n",
    "    \n",
    "\n",
    "\n",
    "for n, d in Gx.nodes(data=True):\n",
    "    if d['shape'] =='star':\n",
    "        Gx.add_node(n, size = d['size']*1.1)\n",
    "    else:\n",
    "        Gx.add_node(n, size = d['size']*0.2)\n",
    "\n",
    "Gx.add_nodes_from(col_소재_kr, group = 1)\n",
    "Gx.add_nodes_from(col_정보_kr, group = 2)\n",
    "Gx.add_nodes_from(col_커뮤_kr, group = 3)\n",
    "Gx.add_nodes_from(col_금융_kr, group = 4)\n",
    "Gx.add_nodes_from(col_산업_kr, group = 5)\n",
    "Gx.add_nodes_from(col_헬스_kr, group = 6)\n",
    "\n",
    "\n",
    "Gx.add_nodes_from(col_소재_ov, group = 1)\n",
    "Gx.add_nodes_from(col_정보_ov, group = 2)\n",
    "Gx.add_nodes_from(col_커뮤_ov, group = 3)\n",
    "Gx.add_nodes_from(col_금융_ov, group = 4)\n",
    "Gx.add_nodes_from(col_산업_ov, group = 5)\n",
    "Gx.add_nodes_from(col_헬스_ov, group = 6)\n",
    "\n",
    "net = Network(notebook = True, width = '1200px', height = '1000px',\n",
    "             bgcolor = '#222222', font_color = 'white')\n",
    "\n",
    "net.repulsion(node_distance = 100, central_gravity = .01)\n",
    "net.from_nx(Gx)\n",
    "net.show('All_Sector.html')"
   ]
  },
  {
   "cell_type": "code",
   "execution_count": 7,
   "id": "5b35377c",
   "metadata": {},
   "outputs": [
    {
     "name": "stdout",
     "output_type": "stream",
     "text": [
      "61733 edges removed\n"
     ]
    }
   ],
   "source": [
    "#상관행렬 생성\n",
    "kr_per = kr_price.pct_change()\n",
    "kr_per = kr_per.iloc[1:,:]\n",
    "\n",
    "ov_per = ov_price.pct_change()\n",
    "ov_per = ov_per.iloc[1:,:]\n",
    "\n",
    "ov_per = ov_per.shift(1)\n",
    "\n",
    "stock = pd.merge(kr_per, ov_per, how = 'left', left_index=True, right_index=True)\n",
    "stock_cor = stock.iloc[1:,:].dropna(axis = 1).corr(method = 'pearson')\n",
    "\n",
    "# convert matrix to list of edges and rename the columns\n",
    "edges = stock_cor.stack().reset_index()\n",
    "edges.columns = [\"종목_1\", \"종목_2\", \"correlation\"]\n",
    "\n",
    "# remove self correlations\n",
    "edges = edges.loc[edges[\"종목_1\"] != edges[\"종목_2\"]].copy()\n",
    "\n",
    "# 임계값(+-0.6) 이하 제거\n",
    "threshold = 0.4\n",
    "\n",
    "# 기본 무방향 그래프 생성\n",
    "Gx = nx.from_pandas_edgelist(edges, \"종목_1\", \"종목_2\", edge_attr=[\"correlation\"])\n",
    "\n",
    "# list to store edges to remove\n",
    "remove = []\n",
    "# loop through edges in Gx and find correlations which are below the threshold\n",
    "for 종목_1, 종목_2 in Gx.edges():\n",
    "    corr = Gx[종목_1][종목_2][\"correlation\"]\n",
    "    # add to remove node list if abs(corr) < threshold\n",
    "    if abs(corr) < threshold:\n",
    "        remove.append((종목_1, 종목_2))\n",
    "\n",
    "# remove edges contained in the remove list\n",
    "Gx.remove_edges_from(remove)\n",
    "\n",
    "print(str(len(remove)) + \" edges removed\")"
   ]
  },
  {
   "cell_type": "code",
   "execution_count": 8,
   "id": "a51c5bca",
   "metadata": {},
   "outputs": [
    {
     "name": "stdout",
     "output_type": "stream",
     "text": [
      "Warning: When  cdn_resources is 'local' jupyter notebook has issues displaying graphics on chrome/safari. Use cdn_resources='in_line' or cdn_resources='remote' if you have issues viewing graphics in a notebook.\n",
      "All_Sector.html\n"
     ]
    },
    {
     "data": {
      "text/html": [
       "\n",
       "        <iframe\n",
       "            width=\"1200px\"\n",
       "            height=\"1000px\"\n",
       "            src=\"All_Sector.html\"\n",
       "            frameborder=\"0\"\n",
       "            allowfullscreen\n",
       "            \n",
       "        ></iframe>\n",
       "        "
      ],
      "text/plain": [
       "<IPython.lib.display.IFrame at 0x1cdc83e6990>"
      ]
     },
     "execution_count": 8,
     "metadata": {},
     "output_type": "execute_result"
    }
   ],
   "source": [
    "# 국내인지 해외인지 속성 부여하기\n",
    "korea = kr_price.columns.to_list()\n",
    "nasdaq = ov_price.columns.to_list()\n",
    "\n",
    "Gx.add_nodes_from(korea, shape = 'star')\n",
    "Gx.add_nodes_from(nasdaq, shape = 'dot')\n",
    "\n",
    "#노드 사이즈가 지정\n",
    "degree_dict = dict(nx.degree(Gx))\n",
    "nsize = np.array([v for v in degree_dict.values()])\n",
    "stock_list = np.array([v for v in degree_dict.keys()])\n",
    "\n",
    "for i, j in enumerate(nsize):\n",
    "    Gx.add_node(stock_list[i], size = nsize[i]*.1)\n",
    "    \n",
    "\n",
    "for n, d in Gx.nodes(data=True):\n",
    "    if d['shape'] =='star':\n",
    "        Gx.add_node(n, size = d['size']*1.1)\n",
    "    else:\n",
    "        Gx.add_node(n, size = d['size']*0.2)\n",
    "\n",
    "Gx.add_nodes_from(col_소재_kr, group = 1)\n",
    "Gx.add_nodes_from(col_정보_kr, group = 2)\n",
    "Gx.add_nodes_from(col_커뮤_kr, group = 3)\n",
    "Gx.add_nodes_from(col_금융_kr, group = 4)\n",
    "Gx.add_nodes_from(col_산업_kr, group = 5)\n",
    "Gx.add_nodes_from(col_헬스_kr, group = 6)\n",
    "\n",
    "\n",
    "Gx.add_nodes_from(col_소재_ov, group = 1)\n",
    "Gx.add_nodes_from(col_정보_ov, group = 2)\n",
    "Gx.add_nodes_from(col_커뮤_ov, group = 3)\n",
    "Gx.add_nodes_from(col_금융_ov, group = 4)\n",
    "Gx.add_nodes_from(col_산업_ov, group = 5)\n",
    "Gx.add_nodes_from(col_헬스_ov, group = 6)\n",
    "\n",
    "net = Network(notebook = True, width = '1200px', height = '1000px',\n",
    "             bgcolor = '#222222', font_color = 'white')\n",
    "\n",
    "net.repulsion(node_distance = 100, central_gravity = .01)\n",
    "net.from_nx(Gx)\n",
    "net.show('All_Sector.html')"
   ]
  },
  {
   "cell_type": "code",
   "execution_count": 9,
   "id": "51e8b349",
   "metadata": {},
   "outputs": [
    {
     "name": "stdout",
     "output_type": "stream",
     "text": [
      "61732 edges removed\n"
     ]
    }
   ],
   "source": [
    "#상관행렬 생성\n",
    "kr_per = kr_price.pct_change()\n",
    "kr_per = kr_per.iloc[1:,:]\n",
    "\n",
    "ov_per = ov_price.pct_change()\n",
    "ov_per = ov_per.iloc[1:,:]\n",
    "\n",
    "kr_per = kr_per.shift(1)\n",
    "\n",
    "stock = pd.merge(kr_per, ov_per, how = 'left', left_index=True, right_index=True)\n",
    "stock_cor = stock.iloc[1:,:].dropna(axis = 1).corr(method = 'pearson')\n",
    "\n",
    "# convert matrix to list of edges and rename the columns\n",
    "edges = stock_cor.stack().reset_index()\n",
    "edges.columns = [\"종목_1\", \"종목_2\", \"correlation\"]\n",
    "\n",
    "# remove self correlations\n",
    "edges = edges.loc[edges[\"종목_1\"] != edges[\"종목_2\"]].copy()\n",
    "\n",
    "# 임계값(+-0.6) 이하 제거\n",
    "threshold = 0.4\n",
    "\n",
    "# 기본 무방향 그래프 생성\n",
    "Gx = nx.from_pandas_edgelist(edges, \"종목_1\", \"종목_2\", edge_attr=[\"correlation\"])\n",
    "\n",
    "# list to store edges to remove\n",
    "remove = []\n",
    "# loop through edges in Gx and find correlations which are below the threshold\n",
    "for 종목_1, 종목_2 in Gx.edges():\n",
    "    corr = Gx[종목_1][종목_2][\"correlation\"]\n",
    "    # add to remove node list if abs(corr) < threshold\n",
    "    if abs(corr) < threshold:\n",
    "        remove.append((종목_1, 종목_2))\n",
    "\n",
    "# remove edges contained in the remove list\n",
    "Gx.remove_edges_from(remove)\n",
    "\n",
    "print(str(len(remove)) + \" edges removed\")"
   ]
  },
  {
   "cell_type": "code",
   "execution_count": 10,
   "id": "9de09fee",
   "metadata": {},
   "outputs": [
    {
     "name": "stdout",
     "output_type": "stream",
     "text": [
      "Warning: When  cdn_resources is 'local' jupyter notebook has issues displaying graphics on chrome/safari. Use cdn_resources='in_line' or cdn_resources='remote' if you have issues viewing graphics in a notebook.\n",
      "All_Sector.html\n"
     ]
    },
    {
     "data": {
      "text/html": [
       "\n",
       "        <iframe\n",
       "            width=\"1200px\"\n",
       "            height=\"1000px\"\n",
       "            src=\"All_Sector.html\"\n",
       "            frameborder=\"0\"\n",
       "            allowfullscreen\n",
       "            \n",
       "        ></iframe>\n",
       "        "
      ],
      "text/plain": [
       "<IPython.lib.display.IFrame at 0x1cdc7040f50>"
      ]
     },
     "execution_count": 10,
     "metadata": {},
     "output_type": "execute_result"
    }
   ],
   "source": [
    "# 국내인지 해외인지 속성 부여하기\n",
    "korea = kr_price.columns.to_list()\n",
    "nasdaq = ov_price.columns.to_list()\n",
    "\n",
    "Gx.add_nodes_from(korea, shape = 'star')\n",
    "Gx.add_nodes_from(nasdaq, shape = 'dot')\n",
    "\n",
    "#노드 사이즈가 지정\n",
    "degree_dict = dict(nx.degree(Gx))\n",
    "nsize = np.array([v for v in degree_dict.values()])\n",
    "stock_list = np.array([v for v in degree_dict.keys()])\n",
    "\n",
    "for i, j in enumerate(nsize):\n",
    "    Gx.add_node(stock_list[i], size = nsize[i]*.1)\n",
    "\n",
    "\n",
    "for n, d in Gx.nodes(data=True):\n",
    "    if d['shape'] =='star':\n",
    "        Gx.add_node(n, size = d['size']*1.1)\n",
    "    else:\n",
    "        Gx.add_node(n, size = d['size']*0.2)\n",
    "\n",
    "Gx.add_nodes_from(col_소재_kr, group = 1)\n",
    "Gx.add_nodes_from(col_정보_kr, group = 2)\n",
    "Gx.add_nodes_from(col_커뮤_kr, group = 3)\n",
    "Gx.add_nodes_from(col_금융_kr, group = 4)\n",
    "Gx.add_nodes_from(col_산업_kr, group = 5)\n",
    "Gx.add_nodes_from(col_헬스_kr, group = 6)\n",
    "\n",
    "\n",
    "Gx.add_nodes_from(col_소재_ov, group = 1)\n",
    "Gx.add_nodes_from(col_정보_ov, group = 2)\n",
    "Gx.add_nodes_from(col_커뮤_ov, group = 3)\n",
    "Gx.add_nodes_from(col_금융_ov, group = 4)\n",
    "Gx.add_nodes_from(col_산업_ov, group = 5)\n",
    "Gx.add_nodes_from(col_헬스_ov, group = 6)\n",
    "\n",
    "net = Network(notebook = True, width = '1200px', height = '1000px',\n",
    "             bgcolor = '#222222', font_color = 'white')\n",
    "\n",
    "net.repulsion(node_distance = 100, central_gravity = .01)\n",
    "net.from_nx(Gx)\n",
    "net.show('All_Sector.html')"
   ]
  },
  {
   "cell_type": "code",
   "execution_count": 11,
   "id": "b89e0c41",
   "metadata": {},
   "outputs": [
    {
     "data": {
      "text/plain": [
       "sector\n",
       "정보기술         30\n",
       "헬스케어         30\n",
       "산업재          30\n",
       "소재           30\n",
       "금융           30\n",
       "커뮤니케이션서비스    30\n",
       "Name: count, dtype: int64"
      ]
     },
     "execution_count": 11,
     "metadata": {},
     "output_type": "execute_result"
    }
   ],
   "source": [
    "kr_sec['sector'].value_counts()"
   ]
  },
  {
   "cell_type": "code",
   "execution_count": 12,
   "id": "79cb0586",
   "metadata": {},
   "outputs": [
    {
     "data": {
      "text/plain": [
       "sector\n",
       "정보기술         30\n",
       "커뮤니케이션서비스    30\n",
       "헬스케어         30\n",
       "산업재          30\n",
       "금융           30\n",
       "소재           30\n",
       "Name: count, dtype: int64"
      ]
     },
     "execution_count": 12,
     "metadata": {},
     "output_type": "execute_result"
    }
   ],
   "source": [
    "ov_sec['sector'].value_counts()"
   ]
  }
 ],
 "metadata": {
  "kernelspec": {
   "display_name": "Python 3 (ipykernel)",
   "language": "python",
   "name": "python3"
  },
  "language_info": {
   "codemirror_mode": {
    "name": "ipython",
    "version": 3
   },
   "file_extension": ".py",
   "mimetype": "text/x-python",
   "name": "python",
   "nbconvert_exporter": "python",
   "pygments_lexer": "ipython3",
   "version": "3.11.5"
  }
 },
 "nbformat": 4,
 "nbformat_minor": 5
}
